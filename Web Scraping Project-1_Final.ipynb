{
 "cells": [
  {
   "cell_type": "markdown",
   "metadata": {},
   "source": [
    "# Head Tags of Wikipedia"
   ]
  },
  {
   "cell_type": "code",
   "execution_count": 1,
   "metadata": {
    "scrolled": true
   },
   "outputs": [
    {
     "data": {
      "text/plain": [
       "[<span class=\"mw-headline\" id=\"From_today's_featured_article\">From today's featured article</span>,\n",
       " <span class=\"mw-headline\" id=\"Did_you_know_...\">Did you know ...</span>,\n",
       " <span class=\"mw-headline\" id=\"In_the_news\">In the news</span>,\n",
       " <span class=\"mw-headline\" id=\"On_this_day\">On this day</span>]"
      ]
     },
     "execution_count": 1,
     "metadata": {},
     "output_type": "execute_result"
    }
   ],
   "source": [
    "import bs4\n",
    "import requests\n",
    "from bs4 import BeautifulSoup\n",
    "import re\n",
    "url = \"https://en.wikipedia.org/wiki/Main_Page\"\n",
    "r = requests.get(url)# r variable has all the HTML code\n",
    "htmlContent = r.content# r returns response so if we want the code we write r.content\n",
    "#print(htmlContent)\n",
    "htmlText = r.text\n",
    "#print(htmlText)\n",
    "soup = BeautifulSoup(r.content, 'html.parser')\n",
    "head_tag=[]\n",
    "tag=soup.find_all('span',class_='mw-headline')\n",
    "tag[0:4]"
   ]
  },
  {
   "cell_type": "code",
   "execution_count": 2,
   "metadata": {},
   "outputs": [],
   "source": [
    "tag2=soup.title.text"
   ]
  },
  {
   "cell_type": "code",
   "execution_count": 3,
   "metadata": {},
   "outputs": [
    {
     "name": "stdout",
     "output_type": "stream",
     "text": [
      "[<span class=\"mw-headline\" id=\"From_today's_featured_article\">From today's featured article</span>, <span class=\"mw-headline\" id=\"Did_you_know_...\">Did you know ...</span>, <span class=\"mw-headline\" id=\"In_the_news\">In the news</span>, <span class=\"mw-headline\" id=\"On_this_day\">On this day</span>, <span class=\"mw-headline\" id=\"From_today's_featured_list\">From today's featured list</span>, <span class=\"mw-headline\" id=\"Today's_featured_picture\">Today's featured picture</span>, <span class=\"mw-headline\" id=\"Other_areas_of_Wikipedia\">Other areas of Wikipedia</span>, <span class=\"mw-headline\" id=\"Wikipedia's_sister_projects\">Wikipedia's sister projects</span>, <span class=\"mw-headline\" id=\"Wikipedia_languages\">Wikipedia languages</span>]\n"
     ]
    }
   ],
   "source": [
    "print(tag)"
   ]
  },
  {
   "cell_type": "code",
   "execution_count": 4,
   "metadata": {},
   "outputs": [
    {
     "data": {
      "text/plain": [
       "[\"From today's featured article\",\n",
       " 'Did you know\\xa0...',\n",
       " 'In the news',\n",
       " 'On this day',\n",
       " \"From today's featured list\",\n",
       " \"Today's featured picture\",\n",
       " 'Other areas of Wikipedia',\n",
       " \"Wikipedia's sister projects\",\n",
       " 'Wikipedia languages']"
      ]
     },
     "execution_count": 4,
     "metadata": {},
     "output_type": "execute_result"
    }
   ],
   "source": [
    "for i in tag:\n",
    "    head_tag.append(i.get_text().replace(\"\\n\",\"\"))\n",
    "head_tag"
   ]
  },
  {
   "cell_type": "code",
   "execution_count": 5,
   "metadata": {},
   "outputs": [
    {
     "data": {
      "text/html": [
       "<div>\n",
       "<style scoped>\n",
       "    .dataframe tbody tr th:only-of-type {\n",
       "        vertical-align: middle;\n",
       "    }\n",
       "\n",
       "    .dataframe tbody tr th {\n",
       "        vertical-align: top;\n",
       "    }\n",
       "\n",
       "    .dataframe thead th {\n",
       "        text-align: right;\n",
       "    }\n",
       "</style>\n",
       "<table border=\"1\" class=\"dataframe\">\n",
       "  <thead>\n",
       "    <tr style=\"text-align: right;\">\n",
       "      <th></th>\n",
       "      <th>tag</th>\n",
       "    </tr>\n",
       "  </thead>\n",
       "  <tbody>\n",
       "    <tr>\n",
       "      <th>0</th>\n",
       "      <td>From today's featured article</td>\n",
       "    </tr>\n",
       "    <tr>\n",
       "      <th>1</th>\n",
       "      <td>Did you know ...</td>\n",
       "    </tr>\n",
       "    <tr>\n",
       "      <th>2</th>\n",
       "      <td>In the news</td>\n",
       "    </tr>\n",
       "    <tr>\n",
       "      <th>3</th>\n",
       "      <td>On this day</td>\n",
       "    </tr>\n",
       "    <tr>\n",
       "      <th>4</th>\n",
       "      <td>From today's featured list</td>\n",
       "    </tr>\n",
       "    <tr>\n",
       "      <th>5</th>\n",
       "      <td>Today's featured picture</td>\n",
       "    </tr>\n",
       "    <tr>\n",
       "      <th>6</th>\n",
       "      <td>Other areas of Wikipedia</td>\n",
       "    </tr>\n",
       "    <tr>\n",
       "      <th>7</th>\n",
       "      <td>Wikipedia's sister projects</td>\n",
       "    </tr>\n",
       "    <tr>\n",
       "      <th>8</th>\n",
       "      <td>Wikipedia languages</td>\n",
       "    </tr>\n",
       "  </tbody>\n",
       "</table>\n",
       "</div>"
      ],
      "text/plain": [
       "                             tag\n",
       "0  From today's featured article\n",
       "1               Did you know ...\n",
       "2                    In the news\n",
       "3                    On this day\n",
       "4     From today's featured list\n",
       "5       Today's featured picture\n",
       "6       Other areas of Wikipedia\n",
       "7    Wikipedia's sister projects\n",
       "8            Wikipedia languages"
      ]
     },
     "execution_count": 5,
     "metadata": {},
     "output_type": "execute_result"
    }
   ],
   "source": [
    "import pandas as pd\n",
    "Head_tags=pd.DataFrame({})\n",
    "Head_tags['tag']=head_tag\n",
    "Head_tags"
   ]
  },
  {
   "cell_type": "code",
   "execution_count": 6,
   "metadata": {},
   "outputs": [],
   "source": [
    "Head_tags.to_csv(\"/Users/aks/Desktop/WebScraping.csv\",index=False)"
   ]
  },
  {
   "cell_type": "markdown",
   "metadata": {},
   "source": [
    "#######################################################################################################################"
   ]
  },
  {
   "cell_type": "markdown",
   "metadata": {},
   "source": [
    "# TOP 100 IMDB RATING MOVIES"
   ]
  },
  {
   "cell_type": "code",
   "execution_count": 7,
   "metadata": {},
   "outputs": [],
   "source": [
    "url1 = \"https://www.imdb.com/search/title/?count=100&groups=top_1000&sort=user_rating\"\n",
    "r1 = requests.get(url1)# r variable has all the HTML code\n",
    "htmlContent1 = r.content"
   ]
  },
  {
   "cell_type": "code",
   "execution_count": 8,
   "metadata": {},
   "outputs": [
    {
     "data": {
      "text/plain": [
       "[<h3 class=\"lister-item-header\">\n",
       " <span class=\"lister-item-index unbold text-primary\">1.</span>\n",
       " <a href=\"/title/tt0111161/\">The Shawshank Redemption</a>\n",
       " <span class=\"lister-item-year text-muted unbold\">(1994)</span>\n",
       " </h3>,\n",
       " <h3 class=\"lister-item-header\">\n",
       " <span class=\"lister-item-index unbold text-primary\">2.</span>\n",
       " <a href=\"/title/tt0068646/\">The Godfather</a>\n",
       " <span class=\"lister-item-year text-muted unbold\">(1972)</span>\n",
       " </h3>]"
      ]
     },
     "execution_count": 8,
     "metadata": {},
     "output_type": "execute_result"
    }
   ],
   "source": [
    "htmlText1 = r.text\n",
    "soup1 = BeautifulSoup(r1.content, 'html.parser')\n",
    "Movies_Name=[]\n",
    "IMDB_Rating=[]\n",
    "Year_Of_Release=[]\n",
    "Name1=soup1.find_all('h3',class_='lister-item-header')\n",
    "Name1[0:2]\n"
   ]
  },
  {
   "cell_type": "code",
   "execution_count": 9,
   "metadata": {},
   "outputs": [
    {
     "data": {
      "text/plain": [
       "['1.The Shawshank Redemption(1994)',\n",
       " '2.The Godfather(1972)',\n",
       " '3.The Dark Knight(2008)',\n",
       " '4.The Godfather: Part II(1974)',\n",
       " '5.12 Angry Men(1957)']"
      ]
     },
     "execution_count": 9,
     "metadata": {},
     "output_type": "execute_result"
    }
   ],
   "source": [
    "for i in Name1:\n",
    "    Movies_Name.append(i.get_text().replace(\"\\n\",\"\"))\n",
    "Movies_Name[0:5]"
   ]
  },
  {
   "cell_type": "code",
   "execution_count": 10,
   "metadata": {},
   "outputs": [
    {
     "data": {
      "text/plain": [
       "[<div class=\"inline-block ratings-imdb-rating\" data-value=\"9.3\" name=\"ir\">\n",
       " <span class=\"global-sprite rating-star imdb-rating\"></span>\n",
       " <strong>9.3</strong>\n",
       " </div>,\n",
       " <div class=\"inline-block ratings-imdb-rating\" data-value=\"9.2\" name=\"ir\">\n",
       " <span class=\"global-sprite rating-star imdb-rating\"></span>\n",
       " <strong>9.2</strong>\n",
       " </div>]"
      ]
     },
     "execution_count": 10,
     "metadata": {},
     "output_type": "execute_result"
    }
   ],
   "source": [
    "Rating1=soup1.find_all('div',class_='inline-block ratings-imdb-rating')\n",
    "Rating1[0:2]"
   ]
  },
  {
   "cell_type": "code",
   "execution_count": 11,
   "metadata": {},
   "outputs": [
    {
     "data": {
      "text/plain": [
       "['9.3', '9.2', '9.0', '9.0', '9.0']"
      ]
     },
     "execution_count": 11,
     "metadata": {},
     "output_type": "execute_result"
    }
   ],
   "source": [
    "for i in Rating1:\n",
    "    IMDB_Rating.append(i.get_text().replace(\"\\n\",\"\"))\n",
    "IMDB_Rating[0:5]"
   ]
  },
  {
   "cell_type": "code",
   "execution_count": 12,
   "metadata": {},
   "outputs": [
    {
     "data": {
      "text/plain": [
       "[<span class=\"lister-item-year text-muted unbold\">(1994)</span>,\n",
       " <span class=\"lister-item-year text-muted unbold\">(1972)</span>,\n",
       " <span class=\"lister-item-year text-muted unbold\">(2008)</span>,\n",
       " <span class=\"lister-item-year text-muted unbold\">(1974)</span>]"
      ]
     },
     "execution_count": 12,
     "metadata": {},
     "output_type": "execute_result"
    }
   ],
   "source": [
    "Release1=soup1.find_all('span',class_='lister-item-year text-muted unbold')\n",
    "Release1[0:4]"
   ]
  },
  {
   "cell_type": "code",
   "execution_count": 13,
   "metadata": {},
   "outputs": [
    {
     "data": {
      "text/plain": [
       "['(1994)',\n",
       " '(1972)',\n",
       " '(2008)',\n",
       " '(1974)',\n",
       " '(1957)',\n",
       " '(2003)',\n",
       " '(1994)',\n",
       " '(1993)',\n",
       " '(2010)',\n",
       " '(1999)']"
      ]
     },
     "execution_count": 13,
     "metadata": {},
     "output_type": "execute_result"
    }
   ],
   "source": [
    "for i in Release1:\n",
    "    Year_Of_Release.append(i.get_text().replace(\"\\n\",\"\"))\n",
    "Year_Of_Release[0:10]"
   ]
  },
  {
   "cell_type": "code",
   "execution_count": 14,
   "metadata": {
    "scrolled": true
   },
   "outputs": [
    {
     "data": {
      "text/html": [
       "<div>\n",
       "<style scoped>\n",
       "    .dataframe tbody tr th:only-of-type {\n",
       "        vertical-align: middle;\n",
       "    }\n",
       "\n",
       "    .dataframe tbody tr th {\n",
       "        vertical-align: top;\n",
       "    }\n",
       "\n",
       "    .dataframe thead th {\n",
       "        text-align: right;\n",
       "    }\n",
       "</style>\n",
       "<table border=\"1\" class=\"dataframe\">\n",
       "  <thead>\n",
       "    <tr style=\"text-align: right;\">\n",
       "      <th></th>\n",
       "      <th>NAME</th>\n",
       "      <th>RATING</th>\n",
       "      <th>YEAR</th>\n",
       "    </tr>\n",
       "  </thead>\n",
       "  <tbody>\n",
       "    <tr>\n",
       "      <th>0</th>\n",
       "      <td>1.The Shawshank Redemption(1994)</td>\n",
       "      <td>9.3</td>\n",
       "      <td>(1994)</td>\n",
       "    </tr>\n",
       "    <tr>\n",
       "      <th>1</th>\n",
       "      <td>2.The Godfather(1972)</td>\n",
       "      <td>9.2</td>\n",
       "      <td>(1972)</td>\n",
       "    </tr>\n",
       "    <tr>\n",
       "      <th>2</th>\n",
       "      <td>3.The Dark Knight(2008)</td>\n",
       "      <td>9.0</td>\n",
       "      <td>(2008)</td>\n",
       "    </tr>\n",
       "    <tr>\n",
       "      <th>3</th>\n",
       "      <td>4.The Godfather: Part II(1974)</td>\n",
       "      <td>9.0</td>\n",
       "      <td>(1974)</td>\n",
       "    </tr>\n",
       "    <tr>\n",
       "      <th>4</th>\n",
       "      <td>5.12 Angry Men(1957)</td>\n",
       "      <td>9.0</td>\n",
       "      <td>(1957)</td>\n",
       "    </tr>\n",
       "    <tr>\n",
       "      <th>...</th>\n",
       "      <td>...</td>\n",
       "      <td>...</td>\n",
       "      <td>...</td>\n",
       "    </tr>\n",
       "    <tr>\n",
       "      <th>95</th>\n",
       "      <td>96.Amélie(2001)</td>\n",
       "      <td>8.3</td>\n",
       "      <td>(2001)</td>\n",
       "    </tr>\n",
       "    <tr>\n",
       "      <th>96</th>\n",
       "      <td>97.Snatch(2000)</td>\n",
       "      <td>8.3</td>\n",
       "      <td>(2000)</td>\n",
       "    </tr>\n",
       "    <tr>\n",
       "      <th>97</th>\n",
       "      <td>98.Requiem for a Dream(2000)</td>\n",
       "      <td>8.3</td>\n",
       "      <td>(2000)</td>\n",
       "    </tr>\n",
       "    <tr>\n",
       "      <th>98</th>\n",
       "      <td>99.American Beauty(1999)</td>\n",
       "      <td>8.3</td>\n",
       "      <td>(1999)</td>\n",
       "    </tr>\n",
       "    <tr>\n",
       "      <th>99</th>\n",
       "      <td>100.Good Will Hunting(1997)</td>\n",
       "      <td>8.3</td>\n",
       "      <td>(1997)</td>\n",
       "    </tr>\n",
       "  </tbody>\n",
       "</table>\n",
       "<p>100 rows × 3 columns</p>\n",
       "</div>"
      ],
      "text/plain": [
       "                                NAME RATING    YEAR\n",
       "0   1.The Shawshank Redemption(1994)    9.3  (1994)\n",
       "1              2.The Godfather(1972)    9.2  (1972)\n",
       "2            3.The Dark Knight(2008)    9.0  (2008)\n",
       "3     4.The Godfather: Part II(1974)    9.0  (1974)\n",
       "4               5.12 Angry Men(1957)    9.0  (1957)\n",
       "..                               ...    ...     ...\n",
       "95                   96.Amélie(2001)    8.3  (2001)\n",
       "96                   97.Snatch(2000)    8.3  (2000)\n",
       "97      98.Requiem for a Dream(2000)    8.3  (2000)\n",
       "98          99.American Beauty(1999)    8.3  (1999)\n",
       "99       100.Good Will Hunting(1997)    8.3  (1997)\n",
       "\n",
       "[100 rows x 3 columns]"
      ]
     },
     "execution_count": 14,
     "metadata": {},
     "output_type": "execute_result"
    }
   ],
   "source": [
    "IMDB=pd.DataFrame({})\n",
    "IMDB['NAME']=Movies_Name\n",
    "IMDB['RATING']=IMDB_Rating\n",
    "IMDB['YEAR']=Year_Of_Release\n",
    "IMDB"
   ]
  },
  {
   "cell_type": "code",
   "execution_count": 15,
   "metadata": {},
   "outputs": [],
   "source": [
    "IMDB.to_csv(\"/Users/aks/Desktop/WebScraping.csv\",index=False)"
   ]
  },
  {
   "cell_type": "markdown",
   "metadata": {},
   "source": [
    "##############################################################################################################################"
   ]
  },
  {
   "cell_type": "markdown",
   "metadata": {},
   "source": [
    "# TOP 100 HINDI IMDB RATING MOVIES"
   ]
  },
  {
   "cell_type": "code",
   "execution_count": 16,
   "metadata": {},
   "outputs": [],
   "source": [
    "url2 = \"https://www.imdb.com/list/ls051594496/\"\n",
    "r2 = requests.get(url2)# r variable has all the HTML code\n",
    "htmlContent2 = r.content# r returns response so if we want the code we write r.content\n",
    "#print(htmlContent)"
   ]
  },
  {
   "cell_type": "code",
   "execution_count": 17,
   "metadata": {},
   "outputs": [],
   "source": [
    "htmlText2 = r.text\n",
    "#print(htmlText)"
   ]
  },
  {
   "cell_type": "code",
   "execution_count": 18,
   "metadata": {},
   "outputs": [],
   "source": [
    "soup2 = BeautifulSoup(r2.content, 'html.parser')\n",
    "\n",
    "#print(soup.prettify())\t# to print html in tree structure"
   ]
  },
  {
   "cell_type": "code",
   "execution_count": 19,
   "metadata": {},
   "outputs": [
    {
     "name": "stdout",
     "output_type": "stream",
     "text": [
      "<title>The 100 Greatest Hindi Movies of All Time - IMDb</title>\n"
     ]
    }
   ],
   "source": [
    "title2 = soup2.title\n",
    "print(title2)"
   ]
  },
  {
   "cell_type": "code",
   "execution_count": 20,
   "metadata": {},
   "outputs": [],
   "source": [
    "Movies_Name1=[]\n",
    "IMDB_Rating2=[]\n",
    "Year_Of_Release1=[]"
   ]
  },
  {
   "cell_type": "code",
   "execution_count": 21,
   "metadata": {},
   "outputs": [],
   "source": [
    "Name11=soup2.find_all('h3',class_='lister-item-header')"
   ]
  },
  {
   "cell_type": "code",
   "execution_count": 22,
   "metadata": {},
   "outputs": [
    {
     "data": {
      "text/plain": [
       "[<h3 class=\"lister-item-header\">\n",
       " <span class=\"lister-item-index unbold text-primary\">1.</span>\n",
       " <a href=\"/title/tt1954470/\">Gangs of Wasseypur</a>\n",
       " <span class=\"lister-item-year text-muted unbold\">(2012)</span>\n",
       " </h3>,\n",
       " <h3 class=\"lister-item-header\">\n",
       " <span class=\"lister-item-index unbold text-primary\">2.</span>\n",
       " <a href=\"/title/tt0169102/\">Lagaan: Once Upon a Time in India</a>\n",
       " <span class=\"lister-item-year text-muted unbold\">(2001)</span>\n",
       " </h3>,\n",
       " <h3 class=\"lister-item-header\">\n",
       " <span class=\"lister-item-index unbold text-primary\">3.</span>\n",
       " <a href=\"/title/tt0215911/\">Koshish</a>\n",
       " <span class=\"lister-item-year text-muted unbold\">(1972)</span>\n",
       " </h3>,\n",
       " <h3 class=\"lister-item-header\">\n",
       " <span class=\"lister-item-index unbold text-primary\">4.</span>\n",
       " <a href=\"/title/tt0405508/\">Rang De Basanti</a>\n",
       " <span class=\"lister-item-year text-muted unbold\">(2006)</span>\n",
       " </h3>]"
      ]
     },
     "execution_count": 22,
     "metadata": {},
     "output_type": "execute_result"
    }
   ],
   "source": [
    "Name11[0:4]"
   ]
  },
  {
   "cell_type": "code",
   "execution_count": 23,
   "metadata": {
    "scrolled": true
   },
   "outputs": [
    {
     "data": {
      "text/plain": [
       "['1.Gangs of Wasseypur(2012)',\n",
       " '2.Lagaan: Once Upon a Time in India(2001)',\n",
       " '3.Koshish(1972)',\n",
       " '4.Rang De Basanti(2006)',\n",
       " '5.Mughal-E-Azam(1960)']"
      ]
     },
     "execution_count": 23,
     "metadata": {},
     "output_type": "execute_result"
    }
   ],
   "source": [
    "for i in Name11:\n",
    "    Movies_Name1.append(i.get_text().replace(\"\\n\",\"\"))\n",
    "Movies_Name1[0:5]"
   ]
  },
  {
   "cell_type": "code",
   "execution_count": 24,
   "metadata": {},
   "outputs": [
    {
     "data": {
      "text/plain": [
       "[<span class=\"ipl-rating-star__rating\">8.2</span>,\n",
       " <span class=\"ipl-rating-star__rating\">0</span>,\n",
       " <span class=\"ipl-rating-star__rating\">Rate</span>,\n",
       " <span class=\"ipl-rating-star__rating\">1</span>]"
      ]
     },
     "execution_count": 24,
     "metadata": {},
     "output_type": "execute_result"
    }
   ],
   "source": [
    "Rating2=soup2.find_all('span',class_='ipl-rating-star__rating')\n",
    "Rating2[0:4]"
   ]
  },
  {
   "cell_type": "code",
   "execution_count": 25,
   "metadata": {
    "scrolled": false
   },
   "outputs": [],
   "source": [
    "# for i in Rating2:\n",
    "#     IMDB_Rating2.append(i.get_text().replace(\"\\n\",\"\").strip())\n",
    "# IMDB_Rating2"
   ]
  },
  {
   "cell_type": "code",
   "execution_count": 26,
   "metadata": {},
   "outputs": [
    {
     "data": {
      "text/plain": [
       "[<span class=\"lister-item-year text-muted unbold\">(2012)</span>,\n",
       " <span class=\"lister-item-year text-muted unbold\">(2001)</span>,\n",
       " <span class=\"lister-item-year text-muted unbold\">(1972)</span>,\n",
       " <span class=\"lister-item-year text-muted unbold\">(2006)</span>]"
      ]
     },
     "execution_count": 26,
     "metadata": {},
     "output_type": "execute_result"
    }
   ],
   "source": [
    "Release1=soup2.find_all('span',class_='lister-item-year text-muted unbold')\n",
    "Release1[0:4]"
   ]
  },
  {
   "cell_type": "code",
   "execution_count": 27,
   "metadata": {},
   "outputs": [
    {
     "data": {
      "text/plain": [
       "['(2012)',\n",
       " '(2001)',\n",
       " '(1972)',\n",
       " '(2006)',\n",
       " '(1960)',\n",
       " '(1980)',\n",
       " '(2009)',\n",
       " '(2007)',\n",
       " '(1957)',\n",
       " '(2004)']"
      ]
     },
     "execution_count": 27,
     "metadata": {},
     "output_type": "execute_result"
    }
   ],
   "source": [
    "for i in Release1:\n",
    "    Year_Of_Release1.append(i.get_text().replace(\"\\n\",\"\"))\n",
    "Year_Of_Release1[0:10]"
   ]
  },
  {
   "cell_type": "code",
   "execution_count": 28,
   "metadata": {},
   "outputs": [],
   "source": [
    "IMDB1=pd.DataFrame({})"
   ]
  },
  {
   "cell_type": "code",
   "execution_count": 29,
   "metadata": {},
   "outputs": [],
   "source": [
    "IMDB1['NAME1']=Movies_Name1\n",
    "IMDB1['YEAR1']=Year_Of_Release1\n",
    "IMDB1['RATING1']=IMDB_Rating"
   ]
  },
  {
   "cell_type": "code",
   "execution_count": 30,
   "metadata": {},
   "outputs": [
    {
     "data": {
      "text/html": [
       "<div>\n",
       "<style scoped>\n",
       "    .dataframe tbody tr th:only-of-type {\n",
       "        vertical-align: middle;\n",
       "    }\n",
       "\n",
       "    .dataframe tbody tr th {\n",
       "        vertical-align: top;\n",
       "    }\n",
       "\n",
       "    .dataframe thead th {\n",
       "        text-align: right;\n",
       "    }\n",
       "</style>\n",
       "<table border=\"1\" class=\"dataframe\">\n",
       "  <thead>\n",
       "    <tr style=\"text-align: right;\">\n",
       "      <th></th>\n",
       "      <th>NAME1</th>\n",
       "      <th>YEAR1</th>\n",
       "      <th>RATING1</th>\n",
       "    </tr>\n",
       "  </thead>\n",
       "  <tbody>\n",
       "    <tr>\n",
       "      <th>0</th>\n",
       "      <td>1.Gangs of Wasseypur(2012)</td>\n",
       "      <td>(2012)</td>\n",
       "      <td>9.3</td>\n",
       "    </tr>\n",
       "    <tr>\n",
       "      <th>1</th>\n",
       "      <td>2.Lagaan: Once Upon a Time in India(2001)</td>\n",
       "      <td>(2001)</td>\n",
       "      <td>9.2</td>\n",
       "    </tr>\n",
       "    <tr>\n",
       "      <th>2</th>\n",
       "      <td>3.Koshish(1972)</td>\n",
       "      <td>(1972)</td>\n",
       "      <td>9.0</td>\n",
       "    </tr>\n",
       "    <tr>\n",
       "      <th>3</th>\n",
       "      <td>4.Rang De Basanti(2006)</td>\n",
       "      <td>(2006)</td>\n",
       "      <td>9.0</td>\n",
       "    </tr>\n",
       "    <tr>\n",
       "      <th>4</th>\n",
       "      <td>5.Mughal-E-Azam(1960)</td>\n",
       "      <td>(1960)</td>\n",
       "      <td>9.0</td>\n",
       "    </tr>\n",
       "    <tr>\n",
       "      <th>...</th>\n",
       "      <td>...</td>\n",
       "      <td>...</td>\n",
       "      <td>...</td>\n",
       "    </tr>\n",
       "    <tr>\n",
       "      <th>95</th>\n",
       "      <td>96.Oye Lucky! Lucky Oye!(2008)</td>\n",
       "      <td>(2008)</td>\n",
       "      <td>8.3</td>\n",
       "    </tr>\n",
       "    <tr>\n",
       "      <th>96</th>\n",
       "      <td>97.Chhichhore(2019)</td>\n",
       "      <td>(2019)</td>\n",
       "      <td>8.3</td>\n",
       "    </tr>\n",
       "    <tr>\n",
       "      <th>97</th>\n",
       "      <td>98.Lootera(I) (2013)</td>\n",
       "      <td>(I) (2013)</td>\n",
       "      <td>8.3</td>\n",
       "    </tr>\n",
       "    <tr>\n",
       "      <th>98</th>\n",
       "      <td>99.Jaane Tu... Ya Jaane Na(2008)</td>\n",
       "      <td>(2008)</td>\n",
       "      <td>8.3</td>\n",
       "    </tr>\n",
       "    <tr>\n",
       "      <th>99</th>\n",
       "      <td>100.City Lights(2014)</td>\n",
       "      <td>(2014)</td>\n",
       "      <td>8.3</td>\n",
       "    </tr>\n",
       "  </tbody>\n",
       "</table>\n",
       "<p>100 rows × 3 columns</p>\n",
       "</div>"
      ],
      "text/plain": [
       "                                        NAME1       YEAR1 RATING1\n",
       "0                  1.Gangs of Wasseypur(2012)      (2012)     9.3\n",
       "1   2.Lagaan: Once Upon a Time in India(2001)      (2001)     9.2\n",
       "2                             3.Koshish(1972)      (1972)     9.0\n",
       "3                     4.Rang De Basanti(2006)      (2006)     9.0\n",
       "4                       5.Mughal-E-Azam(1960)      (1960)     9.0\n",
       "..                                        ...         ...     ...\n",
       "95             96.Oye Lucky! Lucky Oye!(2008)      (2008)     8.3\n",
       "96                        97.Chhichhore(2019)      (2019)     8.3\n",
       "97                       98.Lootera(I) (2013)  (I) (2013)     8.3\n",
       "98           99.Jaane Tu... Ya Jaane Na(2008)      (2008)     8.3\n",
       "99                      100.City Lights(2014)      (2014)     8.3\n",
       "\n",
       "[100 rows x 3 columns]"
      ]
     },
     "execution_count": 30,
     "metadata": {},
     "output_type": "execute_result"
    }
   ],
   "source": [
    "IMDB1\n"
   ]
  },
  {
   "cell_type": "code",
   "execution_count": 31,
   "metadata": {},
   "outputs": [],
   "source": [
    "IMDB1.to_csv(\"/Users/aks/Desktop/WebScraping.csv\",index=False)"
   ]
  },
  {
   "cell_type": "markdown",
   "metadata": {},
   "source": [
    "######################################################################################################################\n"
   ]
  },
  {
   "cell_type": "markdown",
   "metadata": {},
   "source": [
    "# Scrap Book Name ,Author,Genre"
   ]
  },
  {
   "cell_type": "code",
   "execution_count": 32,
   "metadata": {},
   "outputs": [],
   "source": [
    "url3 = \"https://bookpage.com/search?book_genre=humor\"\n",
    "r3 = requests.get(url3)# r variable has all the HTML code\n",
    "htmlContent3 = r3.content# r returns response so if we want the code we write r.content\n",
    "#print(htmlContent3)"
   ]
  },
  {
   "cell_type": "code",
   "execution_count": 33,
   "metadata": {},
   "outputs": [],
   "source": [
    "htmlText3 = r3.text"
   ]
  },
  {
   "cell_type": "code",
   "execution_count": 34,
   "metadata": {},
   "outputs": [],
   "source": [
    "soup3 = BeautifulSoup(r3.content, 'html.parser')"
   ]
  },
  {
   "cell_type": "code",
   "execution_count": 35,
   "metadata": {},
   "outputs": [],
   "source": [
    "scrap_book_name=[]\n",
    "author_name=[]\n",
    "genre=[]\n",
    "book_review=[]"
   ]
  },
  {
   "cell_type": "code",
   "execution_count": 36,
   "metadata": {},
   "outputs": [],
   "source": [
    "Name3=soup3.find_all('h4',class_='italic')"
   ]
  },
  {
   "cell_type": "code",
   "execution_count": 37,
   "metadata": {},
   "outputs": [
    {
     "data": {
      "text/plain": [
       "[<h4 class=\"italic\">\n",
       " <a href=\"/features/25765-lifestyles-january-2021-nonfiction\">Lifestyles: January 2021</a>\n",
       " </h4>,\n",
       " <h4 class=\"italic\">\n",
       " <a href=\"/features/25748-two-books-worth-dog-earing-nonfiction\">Two books worth dog-earing</a>\n",
       " </h4>,\n",
       " <h4 class=\"italic\">\n",
       " <a href=\"/features/25665-audiobooks-dont-know-what-to-listen-to-next-weve-got-some-ideas-audio\">Audiobooks: Don’t know what to listen to next? We’ve got some ideas</a>\n",
       " </h4>,\n",
       " <h4 class=\"italic\">\n",
       " <a href=\"/reviews/25714-rachel-bloom-i-want-to-be-where-normal-people-are-nonfiction\">I Want to Be Where the Normal People Are</a>\n",
       " </h4>]"
      ]
     },
     "execution_count": 37,
     "metadata": {},
     "output_type": "execute_result"
    }
   ],
   "source": [
    "Name3[0:4]"
   ]
  },
  {
   "cell_type": "code",
   "execution_count": 38,
   "metadata": {},
   "outputs": [
    {
     "data": {
      "text/plain": [
       "['Lifestyles: January 2021',\n",
       " 'Two books worth dog-earing',\n",
       " 'Audiobooks: Don’t know what to listen to next? We’ve got some ideas',\n",
       " 'I Want to Be Where the Normal People Are',\n",
       " 'Rachel Bloom',\n",
       " 'These books score a perfect 10 on the romp-ometer',\n",
       " 'Distinguished dads',\n",
       " 'Book Clubs: Heavy topics, light touch',\n",
       " 'I Don’t Want to Die Poor',\n",
       " 'Samantha Irby']"
      ]
     },
     "execution_count": 38,
     "metadata": {},
     "output_type": "execute_result"
    }
   ],
   "source": [
    "for i in Name3:\n",
    "    scrap_book_name.append(i.get_text().replace(\"\\n\",\"\"))\n",
    "scrap_book_name"
   ]
  },
  {
   "cell_type": "code",
   "execution_count": 39,
   "metadata": {},
   "outputs": [],
   "source": [
    "author3=soup3.find_all('p',class_='sans bold')"
   ]
  },
  {
   "cell_type": "code",
   "execution_count": 40,
   "metadata": {},
   "outputs": [
    {
     "data": {
      "text/plain": [
       "[<p class=\"sans bold\">\n",
       " Feature by Susannah Felts\n",
       " </p>,\n",
       " <p class=\"sans bold\">\n",
       " Feature by Carly Nations\n",
       " </p>,\n",
       " <p class=\"sans bold\">\n",
       " Feature by the editors of BookPage\n",
       " </p>,\n",
       " <p class=\"sans bold\">\n",
       " Rachel Bloom\n",
       " </p>]"
      ]
     },
     "execution_count": 40,
     "metadata": {},
     "output_type": "execute_result"
    }
   ],
   "source": [
    "author3[0:4]"
   ]
  },
  {
   "cell_type": "code",
   "execution_count": 41,
   "metadata": {},
   "outputs": [
    {
     "data": {
      "text/plain": [
       "['Feature by Susannah Felts',\n",
       " 'Feature by Carly Nations',\n",
       " 'Feature by the editors of BookPage',\n",
       " 'Rachel Bloom',\n",
       " 'Weird is the new normal',\n",
       " 'Feature by BookPage contributors',\n",
       " 'Feature by Julie Hale',\n",
       " 'Feature by Julie Hale',\n",
       " 'Michael Arceneaux',\n",
       " 'She’s more than just a bestselling author; she also has exceptional customer service skills!']"
      ]
     },
     "execution_count": 41,
     "metadata": {},
     "output_type": "execute_result"
    }
   ],
   "source": [
    "for i in author3:\n",
    "    author_name.append(i.get_text().replace(\"\\n\",\"\"))\n",
    "author_name"
   ]
  },
  {
   "cell_type": "code",
   "execution_count": 42,
   "metadata": {},
   "outputs": [],
   "source": [
    "genre3=soup3.find_all('p',class_='genre-links hidden-phone')"
   ]
  },
  {
   "cell_type": "code",
   "execution_count": 43,
   "metadata": {},
   "outputs": [
    {
     "data": {
      "text/plain": [
       "[<p class=\"genre-links hidden-phone\">\n",
       " <a href=\"/search?book_genre=nonfiction\">Nonfiction</a>\n",
       "  / \n",
       " <a href=\"/search?book_genre=self-help\">Self-Help</a>\n",
       "  / \n",
       " <a href=\"/search?book_genre=creativity\">Creativity</a>\n",
       " </p>,\n",
       " <p class=\"genre-links hidden-phone\">\n",
       " <a href=\"/search?book_genre=nonfiction\">Nonfiction</a>\n",
       "  / \n",
       " <a href=\"/search?book_genre=pets\">Pets</a>\n",
       "  / \n",
       " <a href=\"/search?book_genre=humor\">Humor</a>\n",
       " </p>]"
      ]
     },
     "execution_count": 43,
     "metadata": {},
     "output_type": "execute_result"
    }
   ],
   "source": [
    "genre3[0:2]"
   ]
  },
  {
   "cell_type": "code",
   "execution_count": 44,
   "metadata": {},
   "outputs": [
    {
     "data": {
      "text/plain": [
       "[<p class=\"genre-links hidden-phone\">\n",
       " <a href=\"/search?book_genre=nonfiction\">Nonfiction</a>\n",
       "  / \n",
       " <a href=\"/search?book_genre=self-help\">Self-Help</a>\n",
       "  / \n",
       " <a href=\"/search?book_genre=creativity\">Creativity</a>\n",
       " </p>]"
      ]
     },
     "execution_count": 44,
     "metadata": {},
     "output_type": "execute_result"
    }
   ],
   "source": [
    "for i in genre3:\n",
    "    genre.append(i.get_text().replace(\"\\n\",\"\"))\n",
    "genre3[0:1]"
   ]
  },
  {
   "cell_type": "code",
   "execution_count": 45,
   "metadata": {},
   "outputs": [
    {
     "data": {
      "text/plain": [
       "['Read the Feature ',\n",
       " 'Read the Feature ',\n",
       " 'Read the Feature ',\n",
       " 'Read the Review ',\n",
       " 'Read the Interview ',\n",
       " 'Read the Feature ',\n",
       " 'Read the Feature ',\n",
       " 'Read the Feature ',\n",
       " 'Read the Review ',\n",
       " 'Read the Interview ']"
      ]
     },
     "execution_count": 45,
     "metadata": {},
     "output_type": "execute_result"
    }
   ],
   "source": [
    "review3=soup3.find_all('div',class_='read-full')\n",
    "for i in review3:\n",
    "    book_review.append(i.get_text().replace(\"\\n\",\"\"))\n",
    "book_review"
   ]
  },
  {
   "cell_type": "code",
   "execution_count": 46,
   "metadata": {},
   "outputs": [],
   "source": [
    "BOOK=pd.DataFrame({})"
   ]
  },
  {
   "cell_type": "code",
   "execution_count": 47,
   "metadata": {},
   "outputs": [],
   "source": [
    "BOOK['Scrap_book_name']=scrap_book_name\n",
    "BOOK['Author_name']=author_name\n",
    "BOOK['Genre']=genre\n",
    "BOOK['Reviews']=book_review"
   ]
  },
  {
   "cell_type": "code",
   "execution_count": 48,
   "metadata": {},
   "outputs": [
    {
     "data": {
      "text/html": [
       "<div>\n",
       "<style scoped>\n",
       "    .dataframe tbody tr th:only-of-type {\n",
       "        vertical-align: middle;\n",
       "    }\n",
       "\n",
       "    .dataframe tbody tr th {\n",
       "        vertical-align: top;\n",
       "    }\n",
       "\n",
       "    .dataframe thead th {\n",
       "        text-align: right;\n",
       "    }\n",
       "</style>\n",
       "<table border=\"1\" class=\"dataframe\">\n",
       "  <thead>\n",
       "    <tr style=\"text-align: right;\">\n",
       "      <th></th>\n",
       "      <th>Scrap_book_name</th>\n",
       "      <th>Author_name</th>\n",
       "      <th>Genre</th>\n",
       "      <th>Reviews</th>\n",
       "    </tr>\n",
       "  </thead>\n",
       "  <tbody>\n",
       "    <tr>\n",
       "      <th>0</th>\n",
       "      <td>Lifestyles: January 2021</td>\n",
       "      <td>Feature by Susannah Felts</td>\n",
       "      <td>Nonfiction / Self-Help / Creativity</td>\n",
       "      <td>Read the Feature</td>\n",
       "    </tr>\n",
       "    <tr>\n",
       "      <th>1</th>\n",
       "      <td>Two books worth dog-earing</td>\n",
       "      <td>Feature by Carly Nations</td>\n",
       "      <td>Nonfiction / Pets / Humor</td>\n",
       "      <td>Read the Feature</td>\n",
       "    </tr>\n",
       "    <tr>\n",
       "      <th>2</th>\n",
       "      <td>Audiobooks: Don’t know what to listen to next?...</td>\n",
       "      <td>Feature by the editors of BookPage</td>\n",
       "      <td>Audio / Nonfiction / Nature</td>\n",
       "      <td>Read the Feature</td>\n",
       "    </tr>\n",
       "    <tr>\n",
       "      <th>3</th>\n",
       "      <td>I Want to Be Where the Normal People Are</td>\n",
       "      <td>Rachel Bloom</td>\n",
       "      <td>Nonfiction / Humor / Essays</td>\n",
       "      <td>Read the Review</td>\n",
       "    </tr>\n",
       "    <tr>\n",
       "      <th>4</th>\n",
       "      <td>Rachel Bloom</td>\n",
       "      <td>Weird is the new normal</td>\n",
       "      <td>Nonfiction / Humor / Essays</td>\n",
       "      <td>Read the Interview</td>\n",
       "    </tr>\n",
       "    <tr>\n",
       "      <th>5</th>\n",
       "      <td>These books score a perfect 10 on the romp-ometer</td>\n",
       "      <td>Feature by BookPage contributors</td>\n",
       "      <td>Nonfiction / Memoir / Society</td>\n",
       "      <td>Read the Feature</td>\n",
       "    </tr>\n",
       "    <tr>\n",
       "      <th>6</th>\n",
       "      <td>Distinguished dads</td>\n",
       "      <td>Feature by Julie Hale</td>\n",
       "      <td>Nonfiction / Biography &amp; Memoir / Humor</td>\n",
       "      <td>Read the Feature</td>\n",
       "    </tr>\n",
       "    <tr>\n",
       "      <th>7</th>\n",
       "      <td>Book Clubs: Heavy topics, light touch</td>\n",
       "      <td>Feature by Julie Hale</td>\n",
       "      <td>Nonfiction / Humor / Essays</td>\n",
       "      <td>Read the Feature</td>\n",
       "    </tr>\n",
       "    <tr>\n",
       "      <th>8</th>\n",
       "      <td>I Don’t Want to Die Poor</td>\n",
       "      <td>Michael Arceneaux</td>\n",
       "      <td>Nonfiction / Humor / Essays</td>\n",
       "      <td>Read the Review</td>\n",
       "    </tr>\n",
       "    <tr>\n",
       "      <th>9</th>\n",
       "      <td>Samantha Irby</td>\n",
       "      <td>She’s more than just a bestselling author; she...</td>\n",
       "      <td>Nonfiction / Humor / Essays</td>\n",
       "      <td>Read the Interview</td>\n",
       "    </tr>\n",
       "  </tbody>\n",
       "</table>\n",
       "</div>"
      ],
      "text/plain": [
       "                                     Scrap_book_name  \\\n",
       "0                           Lifestyles: January 2021   \n",
       "1                         Two books worth dog-earing   \n",
       "2  Audiobooks: Don’t know what to listen to next?...   \n",
       "3           I Want to Be Where the Normal People Are   \n",
       "4                                       Rachel Bloom   \n",
       "5  These books score a perfect 10 on the romp-ometer   \n",
       "6                                 Distinguished dads   \n",
       "7              Book Clubs: Heavy topics, light touch   \n",
       "8                           I Don’t Want to Die Poor   \n",
       "9                                      Samantha Irby   \n",
       "\n",
       "                                         Author_name  \\\n",
       "0                          Feature by Susannah Felts   \n",
       "1                           Feature by Carly Nations   \n",
       "2                 Feature by the editors of BookPage   \n",
       "3                                       Rachel Bloom   \n",
       "4                            Weird is the new normal   \n",
       "5                   Feature by BookPage contributors   \n",
       "6                              Feature by Julie Hale   \n",
       "7                              Feature by Julie Hale   \n",
       "8                                  Michael Arceneaux   \n",
       "9  She’s more than just a bestselling author; she...   \n",
       "\n",
       "                                     Genre              Reviews  \n",
       "0      Nonfiction / Self-Help / Creativity    Read the Feature   \n",
       "1                Nonfiction / Pets / Humor    Read the Feature   \n",
       "2              Audio / Nonfiction / Nature    Read the Feature   \n",
       "3              Nonfiction / Humor / Essays     Read the Review   \n",
       "4              Nonfiction / Humor / Essays  Read the Interview   \n",
       "5            Nonfiction / Memoir / Society    Read the Feature   \n",
       "6  Nonfiction / Biography & Memoir / Humor    Read the Feature   \n",
       "7              Nonfiction / Humor / Essays    Read the Feature   \n",
       "8              Nonfiction / Humor / Essays     Read the Review   \n",
       "9              Nonfiction / Humor / Essays  Read the Interview   "
      ]
     },
     "execution_count": 48,
     "metadata": {},
     "output_type": "execute_result"
    }
   ],
   "source": [
    "BOOK"
   ]
  },
  {
   "cell_type": "code",
   "execution_count": 49,
   "metadata": {},
   "outputs": [
    {
     "data": {
      "text/html": [
       "<div>\n",
       "<style scoped>\n",
       "    .dataframe tbody tr th:only-of-type {\n",
       "        vertical-align: middle;\n",
       "    }\n",
       "\n",
       "    .dataframe tbody tr th {\n",
       "        vertical-align: top;\n",
       "    }\n",
       "\n",
       "    .dataframe thead th {\n",
       "        text-align: right;\n",
       "    }\n",
       "</style>\n",
       "<table border=\"1\" class=\"dataframe\">\n",
       "  <thead>\n",
       "    <tr style=\"text-align: right;\">\n",
       "      <th></th>\n",
       "      <th>Scrap_book_name</th>\n",
       "      <th>Author_name</th>\n",
       "      <th>Genre</th>\n",
       "      <th>Reviews</th>\n",
       "    </tr>\n",
       "  </thead>\n",
       "  <tbody>\n",
       "    <tr>\n",
       "      <th>0</th>\n",
       "      <td>Lifestyles: January 2021</td>\n",
       "      <td>Feature by Susannah Felts</td>\n",
       "      <td>Nonfiction / Self-Help / Creativity</td>\n",
       "      <td>Read the Feature</td>\n",
       "    </tr>\n",
       "    <tr>\n",
       "      <th>1</th>\n",
       "      <td>Two books worth dog-earing</td>\n",
       "      <td>Feature by Carly Nations</td>\n",
       "      <td>Nonfiction / Pets / Humor</td>\n",
       "      <td>Read the Feature</td>\n",
       "    </tr>\n",
       "    <tr>\n",
       "      <th>2</th>\n",
       "      <td>Audiobooks: Don’t know what to listen to next?...</td>\n",
       "      <td>Feature by the editors of BookPage</td>\n",
       "      <td>Audio / Nonfiction / Nature</td>\n",
       "      <td>Read the Feature</td>\n",
       "    </tr>\n",
       "    <tr>\n",
       "      <th>3</th>\n",
       "      <td>I Want to Be Where the Normal People Are</td>\n",
       "      <td>Rachel Bloom</td>\n",
       "      <td>Nonfiction / Humor / Essays</td>\n",
       "      <td>Read the Review</td>\n",
       "    </tr>\n",
       "    <tr>\n",
       "      <th>4</th>\n",
       "      <td>Rachel Bloom</td>\n",
       "      <td>Weird is the new normal</td>\n",
       "      <td>Nonfiction / Humor / Essays</td>\n",
       "      <td>Read the Interview</td>\n",
       "    </tr>\n",
       "  </tbody>\n",
       "</table>\n",
       "</div>"
      ],
      "text/plain": [
       "                                     Scrap_book_name  \\\n",
       "0                           Lifestyles: January 2021   \n",
       "1                         Two books worth dog-earing   \n",
       "2  Audiobooks: Don’t know what to listen to next?...   \n",
       "3           I Want to Be Where the Normal People Are   \n",
       "4                                       Rachel Bloom   \n",
       "\n",
       "                          Author_name                                Genre  \\\n",
       "0           Feature by Susannah Felts  Nonfiction / Self-Help / Creativity   \n",
       "1            Feature by Carly Nations            Nonfiction / Pets / Humor   \n",
       "2  Feature by the editors of BookPage          Audio / Nonfiction / Nature   \n",
       "3                        Rachel Bloom          Nonfiction / Humor / Essays   \n",
       "4             Weird is the new normal          Nonfiction / Humor / Essays   \n",
       "\n",
       "               Reviews  \n",
       "0    Read the Feature   \n",
       "1    Read the Feature   \n",
       "2    Read the Feature   \n",
       "3     Read the Review   \n",
       "4  Read the Interview   "
      ]
     },
     "execution_count": 49,
     "metadata": {},
     "output_type": "execute_result"
    }
   ],
   "source": [
    "BOOK[0:5]"
   ]
  },
  {
   "cell_type": "code",
   "execution_count": 50,
   "metadata": {},
   "outputs": [],
   "source": [
    "BOOK.to_csv(\"/Users/aks/Desktop/WebScraping.csv\",index=False)"
   ]
  },
  {
   "cell_type": "markdown",
   "metadata": {},
   "source": [
    "#####################################################################################################################################"
   ]
  },
  {
   "cell_type": "markdown",
   "metadata": {},
   "source": [
    "# ICC ODI RANKING MENS"
   ]
  },
  {
   "cell_type": "code",
   "execution_count": 51,
   "metadata": {},
   "outputs": [
    {
     "data": {
      "text/plain": [
       "[<span class=\"u-hide-phablet\">England</span>,\n",
       " <span class=\"u-hide-phablet\">India</span>,\n",
       " <span class=\"u-hide-phablet\">New Zealand</span>,\n",
       " <span class=\"u-hide-phablet\">Australia</span>,\n",
       " <span class=\"u-hide-phablet\">South Africa</span>,\n",
       " <span class=\"u-hide-phablet\">Pakistan</span>,\n",
       " <span class=\"u-hide-phablet\">Bangladesh</span>,\n",
       " <span class=\"u-hide-phablet\">Sri Lanka</span>,\n",
       " <span class=\"u-hide-phablet\">West Indies</span>,\n",
       " <span class=\"u-hide-phablet\">Afghanistan</span>]"
      ]
     },
     "execution_count": 51,
     "metadata": {},
     "output_type": "execute_result"
    }
   ],
   "source": [
    "url5 = \"https://www.icc-cricket.com/rankings/mens/team-rankings/odi\"\n",
    "r5 = requests.get(url5)# r variable has all the HTML code\n",
    "htmlContent5 = r5.content# r returns response so if we want the code we write r.content\n",
    "#print(htmlContent)\n",
    "htmlText5 = r5.text\n",
    "#print(htmlText)\n",
    "soup5 = BeautifulSoup(r5.content, 'html.parser')\n",
    "Teams=[]\n",
    "Matches5=[]\n",
    "Points5=[]\n",
    "Ratings5=[]\n",
    "Ratings6=[]\n",
    "\n",
    "teams=soup5.find_all('span',class_='u-hide-phablet')\n",
    "teams[0:10]"
   ]
  },
  {
   "cell_type": "code",
   "execution_count": 52,
   "metadata": {},
   "outputs": [
    {
     "data": {
      "text/plain": [
       "['England',\n",
       " 'India',\n",
       " 'New Zealand',\n",
       " 'Australia',\n",
       " 'South Africa',\n",
       " 'Pakistan',\n",
       " 'Bangladesh',\n",
       " 'Sri Lanka',\n",
       " 'West Indies',\n",
       " 'Afghanistan']"
      ]
     },
     "execution_count": 52,
     "metadata": {},
     "output_type": "execute_result"
    }
   ],
   "source": [
    "for i in teams[0:20]:\n",
    "    Teams.append(i.get_text().replace(\"\\n\",\"\"))\n",
    "Teams[0:10]"
   ]
  },
  {
   "cell_type": "code",
   "execution_count": 53,
   "metadata": {},
   "outputs": [
    {
     "name": "stdout",
     "output_type": "stream",
     "text": [
      "['52', '32', '39', '31', '35', '34', '39', '43', '28', '24', '5', '27', '12', '16', '9', '15', '9', '14', '14']\n"
     ]
    }
   ],
   "source": [
    "matches5=soup5.find_all('td',class_='table-body__cell u-center-text',)\n",
    "for i in matches5:\n",
    "    Matches5.append(i.text)\n",
    "Matches5\n",
    "print(Matches5[0::2])"
   ]
  },
  {
   "cell_type": "code",
   "execution_count": 54,
   "metadata": {},
   "outputs": [
    {
     "name": "stdout",
     "output_type": "stream",
     "text": [
      "['6,102', '3,716', '4,344', '3,345', '3,490', '2,989', '3,297', '3,285', '1,549', '1,256', '222', '1,121', '479', '419', '161', '259', '152', '185', '0']\n"
     ]
    }
   ],
   "source": [
    "points5=soup5.find_all('td',class_='table-body__cell u-center-text',)\n",
    "for i in points5:\n",
    "    Points5.append(i.text)\n",
    "Points5\n",
    "print(Points5[1::2])"
   ]
  },
  {
   "cell_type": "code",
   "execution_count": null,
   "metadata": {},
   "outputs": [],
   "source": []
  },
  {
   "cell_type": "code",
   "execution_count": 55,
   "metadata": {},
   "outputs": [
    {
     "data": {
      "text/plain": [
       "[<td class=\"rankings-block__banner--rating u-text-right\">\n",
       "                             123\n",
       "                             <span class=\"circle-branding circle-branding--top\"></span>\n",
       " <span class=\"circle-branding circle-branding--bottom\"></span>\n",
       " </td>]"
      ]
     },
     "execution_count": 55,
     "metadata": {},
     "output_type": "execute_result"
    }
   ],
   "source": [
    "ratings5=soup5.find_all('td',class_='rankings-block__banner--rating u-text-right')\n",
    "ratings5"
   ]
  },
  {
   "cell_type": "code",
   "execution_count": 56,
   "metadata": {},
   "outputs": [
    {
     "data": {
      "text/plain": [
       "['123']"
      ]
     },
     "execution_count": 56,
     "metadata": {},
     "output_type": "execute_result"
    }
   ],
   "source": [
    "for i in ratings5:\n",
    "    Ratings5.append(i.text.replace(\"\\n\",\"\").strip())\n",
    "Ratings5"
   ]
  },
  {
   "cell_type": "code",
   "execution_count": 57,
   "metadata": {},
   "outputs": [
    {
     "data": {
      "text/plain": [
       "[<td class=\"table-body__cell u-text-right rating\">117</td>,\n",
       " <td class=\"table-body__cell u-text-right rating\">116</td>,\n",
       " <td class=\"table-body__cell u-text-right rating\">111</td>,\n",
       " <td class=\"table-body__cell u-text-right rating\">108</td>]"
      ]
     },
     "execution_count": 57,
     "metadata": {},
     "output_type": "execute_result"
    }
   ],
   "source": [
    "ratings6=soup5.find_all('td',class_='table-body__cell u-text-right rating')\n",
    "ratings6[0:4]"
   ]
  },
  {
   "cell_type": "code",
   "execution_count": 58,
   "metadata": {},
   "outputs": [
    {
     "data": {
      "text/plain": [
       "['117', '116', '111', '108', '100', '88', '85', '76', '55', '52']"
      ]
     },
     "execution_count": 58,
     "metadata": {},
     "output_type": "execute_result"
    }
   ],
   "source": [
    "for i in ratings6:\n",
    "    Ratings6.append(i.text.replace(\"\\n\",\"\").strip())\n",
    "Ratings6[0:10]"
   ]
  },
  {
   "cell_type": "code",
   "execution_count": 59,
   "metadata": {},
   "outputs": [],
   "source": [
    "RATINGS_ICC=Ratings5+Ratings6"
   ]
  },
  {
   "cell_type": "code",
   "execution_count": 60,
   "metadata": {},
   "outputs": [
    {
     "data": {
      "text/html": [
       "<div>\n",
       "<style scoped>\n",
       "    .dataframe tbody tr th:only-of-type {\n",
       "        vertical-align: middle;\n",
       "    }\n",
       "\n",
       "    .dataframe tbody tr th {\n",
       "        vertical-align: top;\n",
       "    }\n",
       "\n",
       "    .dataframe thead th {\n",
       "        text-align: right;\n",
       "    }\n",
       "</style>\n",
       "<table border=\"1\" class=\"dataframe\">\n",
       "  <thead>\n",
       "    <tr style=\"text-align: right;\">\n",
       "      <th></th>\n",
       "      <th>TEAM_NAME</th>\n",
       "      <th>MATCHES</th>\n",
       "      <th>POINTS</th>\n",
       "      <th>RATINGS_</th>\n",
       "    </tr>\n",
       "  </thead>\n",
       "  <tbody>\n",
       "    <tr>\n",
       "      <th>0</th>\n",
       "      <td>England</td>\n",
       "      <td>52</td>\n",
       "      <td>6,102</td>\n",
       "      <td>123</td>\n",
       "    </tr>\n",
       "    <tr>\n",
       "      <th>1</th>\n",
       "      <td>India</td>\n",
       "      <td>32</td>\n",
       "      <td>3,716</td>\n",
       "      <td>117</td>\n",
       "    </tr>\n",
       "    <tr>\n",
       "      <th>2</th>\n",
       "      <td>New Zealand</td>\n",
       "      <td>39</td>\n",
       "      <td>4,344</td>\n",
       "      <td>116</td>\n",
       "    </tr>\n",
       "    <tr>\n",
       "      <th>3</th>\n",
       "      <td>Australia</td>\n",
       "      <td>31</td>\n",
       "      <td>3,345</td>\n",
       "      <td>111</td>\n",
       "    </tr>\n",
       "    <tr>\n",
       "      <th>4</th>\n",
       "      <td>South Africa</td>\n",
       "      <td>35</td>\n",
       "      <td>3,490</td>\n",
       "      <td>108</td>\n",
       "    </tr>\n",
       "    <tr>\n",
       "      <th>5</th>\n",
       "      <td>Pakistan</td>\n",
       "      <td>34</td>\n",
       "      <td>2,989</td>\n",
       "      <td>100</td>\n",
       "    </tr>\n",
       "    <tr>\n",
       "      <th>6</th>\n",
       "      <td>Bangladesh</td>\n",
       "      <td>39</td>\n",
       "      <td>3,297</td>\n",
       "      <td>88</td>\n",
       "    </tr>\n",
       "    <tr>\n",
       "      <th>7</th>\n",
       "      <td>Sri Lanka</td>\n",
       "      <td>43</td>\n",
       "      <td>3,285</td>\n",
       "      <td>85</td>\n",
       "    </tr>\n",
       "    <tr>\n",
       "      <th>8</th>\n",
       "      <td>West Indies</td>\n",
       "      <td>28</td>\n",
       "      <td>1,549</td>\n",
       "      <td>76</td>\n",
       "    </tr>\n",
       "    <tr>\n",
       "      <th>9</th>\n",
       "      <td>Afghanistan</td>\n",
       "      <td>24</td>\n",
       "      <td>1,256</td>\n",
       "      <td>55</td>\n",
       "    </tr>\n",
       "  </tbody>\n",
       "</table>\n",
       "</div>"
      ],
      "text/plain": [
       "      TEAM_NAME MATCHES POINTS RATINGS_\n",
       "0       England      52  6,102      123\n",
       "1         India      32  3,716      117\n",
       "2   New Zealand      39  4,344      116\n",
       "3     Australia      31  3,345      111\n",
       "4  South Africa      35  3,490      108\n",
       "5      Pakistan      34  2,989      100\n",
       "6    Bangladesh      39  3,297       88\n",
       "7     Sri Lanka      43  3,285       85\n",
       "8   West Indies      28  1,549       76\n",
       "9   Afghanistan      24  1,256       55"
      ]
     },
     "execution_count": 60,
     "metadata": {},
     "output_type": "execute_result"
    }
   ],
   "source": [
    "ICC=pd.DataFrame({})\n",
    "ICC['TEAM_NAME']=Teams[0:10]\n",
    "ICC['MATCHES']=Matches5[0::2][0:10]\n",
    "ICC['POINTS']=Points5[1::2][0:10]\n",
    "ICC['RATINGS_']=RATINGS_ICC[0:10]\n",
    "\n",
    "\n",
    "ICC"
   ]
  },
  {
   "cell_type": "markdown",
   "metadata": {},
   "source": [
    "###########################################################################################################################"
   ]
  },
  {
   "cell_type": "markdown",
   "metadata": {},
   "source": [
    "# TOP 10 ODI BATSMEN "
   ]
  },
  {
   "cell_type": "code",
   "execution_count": 61,
   "metadata": {},
   "outputs": [],
   "source": [
    "url7 = \"https://www.icc-cricket.com/rankings/mens/player-rankings/odi/batting\"\n",
    "r7 = requests.get(url7)# r variable has all the HTML code\n",
    "htmlContent3 = r7.content# r returns response so if we want the code we write r.content\n",
    "#print(htmlContent7)"
   ]
  },
  {
   "cell_type": "code",
   "execution_count": 62,
   "metadata": {},
   "outputs": [],
   "source": [
    "soup7 = BeautifulSoup(r7.content, 'html.parser')\n",
    "Player_Name7=[]\n",
    "Team10=[]\n",
    "Ratings10=[]\n",
    "Career_best_Record=[]"
   ]
  },
  {
   "cell_type": "code",
   "execution_count": 63,
   "metadata": {},
   "outputs": [
    {
     "data": {
      "text/plain": [
       "[<div class=\"rankings-block__banner--name-large\">Virat Kohli</div>]"
      ]
     },
     "execution_count": 63,
     "metadata": {},
     "output_type": "execute_result"
    }
   ],
   "source": [
    "player7=soup7.find_all('div',class_='rankings-block__banner--name-large')\n",
    "player7"
   ]
  },
  {
   "cell_type": "code",
   "execution_count": 64,
   "metadata": {},
   "outputs": [
    {
     "data": {
      "text/plain": [
       "[<td class=\"table-body__cell rankings-table__name name\">\n",
       " <a href=\"/rankings/mens/player-rankings/107\">Rohit Sharma</a>\n",
       " </td>,\n",
       " <td class=\"table-body__cell rankings-table__name name\">\n",
       " <a href=\"/rankings/mens/player-rankings/2759\">Babar Azam</a>\n",
       " </td>,\n",
       " <td class=\"table-body__cell rankings-table__name name\">\n",
       " <a href=\"/rankings/mens/player-rankings/226\">Ross Taylor</a>\n",
       " </td>,\n",
       " <td class=\"table-body__cell rankings-table__name name\">\n",
       " <a href=\"/rankings/mens/player-rankings/167\">Aaron Finch</a>\n",
       " </td>]"
      ]
     },
     "execution_count": 64,
     "metadata": {},
     "output_type": "execute_result"
    }
   ],
   "source": [
    "player8=soup7.find_all('td',class_='table-body__cell rankings-table__name name')\n",
    "player8[0:4]"
   ]
  },
  {
   "cell_type": "code",
   "execution_count": 65,
   "metadata": {},
   "outputs": [],
   "source": [
    "PLAYER=player7+player8"
   ]
  },
  {
   "cell_type": "code",
   "execution_count": 66,
   "metadata": {},
   "outputs": [
    {
     "data": {
      "text/plain": [
       "['Virat Kohli',\n",
       " 'Rohit Sharma',\n",
       " 'Babar Azam',\n",
       " 'Ross Taylor',\n",
       " 'Aaron Finch',\n",
       " 'Francois du Plessis',\n",
       " 'David Warner',\n",
       " 'Kane Williamson',\n",
       " 'Quinton de Kock',\n",
       " 'Jonny Bairstow']"
      ]
     },
     "execution_count": 66,
     "metadata": {},
     "output_type": "execute_result"
    }
   ],
   "source": [
    "for i in PLAYER:\n",
    "    Player_Name7.append(i.get_text().replace(\"\\n\",\"\"))\n",
    "Player_Name7[0:10]"
   ]
  },
  {
   "cell_type": "code",
   "execution_count": 67,
   "metadata": {},
   "outputs": [
    {
     "data": {
      "text/plain": [
       "[<div class=\"rankings-block__banner--nationality\">\n",
       " <div class=\"flag-15 IND\"></div>\n",
       " <span class=\"rankings-block__banner--nation\"></span>IND</div>]"
      ]
     },
     "execution_count": 67,
     "metadata": {},
     "output_type": "execute_result"
    }
   ],
   "source": [
    "Team7=soup7.find_all('div',class_='rankings-block__banner--nationality')\n",
    "Team7"
   ]
  },
  {
   "cell_type": "code",
   "execution_count": 68,
   "metadata": {},
   "outputs": [
    {
     "data": {
      "text/plain": [
       "[<span class=\"table-body__logo-text\">IND</span>,\n",
       " <span class=\"table-body__logo-text\">PAK</span>,\n",
       " <span class=\"table-body__logo-text\">NZ</span>,\n",
       " <span class=\"table-body__logo-text\">AUS</span>,\n",
       " <span class=\"table-body__logo-text\">SA</span>,\n",
       " <span class=\"table-body__logo-text\">AUS</span>,\n",
       " <span class=\"table-body__logo-text\">NZ</span>,\n",
       " <span class=\"table-body__logo-text\">SA</span>,\n",
       " <span class=\"table-body__logo-text\">ENG</span>,\n",
       " <span class=\"table-body__logo-text\">WI</span>]"
      ]
     },
     "execution_count": 68,
     "metadata": {},
     "output_type": "execute_result"
    }
   ],
   "source": [
    "Team8=soup7.find_all('span',class_='table-body__logo-text')\n",
    "Team8[0:10]"
   ]
  },
  {
   "cell_type": "code",
   "execution_count": 69,
   "metadata": {},
   "outputs": [],
   "source": [
    "TEAM=Team7+Team8"
   ]
  },
  {
   "cell_type": "code",
   "execution_count": 70,
   "metadata": {},
   "outputs": [
    {
     "data": {
      "text/plain": [
       "['IND', 'IND', 'PAK', 'NZ', 'AUS', 'SA', 'AUS', 'NZ', 'SA', 'ENG']"
      ]
     },
     "execution_count": 70,
     "metadata": {},
     "output_type": "execute_result"
    }
   ],
   "source": [
    "for i in TEAM:\n",
    "    Team10.append(i.get_text().replace(\"\\n\",\"\"))\n",
    "Team10[0:10]"
   ]
  },
  {
   "cell_type": "code",
   "execution_count": 71,
   "metadata": {},
   "outputs": [
    {
     "data": {
      "text/plain": [
       "[<div class=\"rankings-block__banner--rating\">870</div>]"
      ]
     },
     "execution_count": 71,
     "metadata": {},
     "output_type": "execute_result"
    }
   ],
   "source": [
    "ratings7=soup7.find_all('div',class_='rankings-block__banner--rating')\n",
    "ratings7"
   ]
  },
  {
   "cell_type": "code",
   "execution_count": 72,
   "metadata": {},
   "outputs": [
    {
     "data": {
      "text/plain": [
       "[<td class=\"table-body__cell rating\">842</td>,\n",
       " <td class=\"table-body__cell rating\">837</td>,\n",
       " <td class=\"table-body__cell rating\">818</td>,\n",
       " <td class=\"table-body__cell rating\">791</td>,\n",
       " <td class=\"table-body__cell rating\">790</td>,\n",
       " <td class=\"table-body__cell rating\">773</td>,\n",
       " <td class=\"table-body__cell rating\">765</td>,\n",
       " <td class=\"table-body__cell rating\">755</td>,\n",
       " <td class=\"table-body__cell rating\">754</td>,\n",
       " <td class=\"table-body__cell rating\">750</td>]"
      ]
     },
     "execution_count": 72,
     "metadata": {},
     "output_type": "execute_result"
    }
   ],
   "source": [
    "ratings8=soup7.find_all('td',class_='table-body__cell rating')\n",
    "ratings8[0:10]"
   ]
  },
  {
   "cell_type": "code",
   "execution_count": 73,
   "metadata": {},
   "outputs": [],
   "source": [
    "RATINGS=ratings7+ratings8"
   ]
  },
  {
   "cell_type": "code",
   "execution_count": 74,
   "metadata": {},
   "outputs": [
    {
     "data": {
      "text/plain": [
       "['870', '842', '837', '818', '791', '790', '773', '765', '755', '754']"
      ]
     },
     "execution_count": 74,
     "metadata": {},
     "output_type": "execute_result"
    }
   ],
   "source": [
    "for i in RATINGS:\n",
    "    Ratings10.append(i.get_text().replace(\"\\n\",\"\"))\n",
    "Ratings10[0:10]"
   ]
  },
  {
   "cell_type": "code",
   "execution_count": 75,
   "metadata": {},
   "outputs": [
    {
     "data": {
      "text/plain": [
       "[<span class=\"rankings-block__career-best-text\">\n",
       "                                 911 v England, 12/07/2018\n",
       "                         </span>]"
      ]
     },
     "execution_count": 75,
     "metadata": {},
     "output_type": "execute_result"
    }
   ],
   "source": [
    "career_best1=soup7.find_all('span',class_='rankings-block__career-best-text')\n",
    "career_best1"
   ]
  },
  {
   "cell_type": "code",
   "execution_count": 76,
   "metadata": {},
   "outputs": [
    {
     "data": {
      "text/plain": [
       "[<td class=\"table-body__cell u-text-right u-hide-phablet\">\n",
       "                                 885 v Sri Lanka, 06/07/2019\n",
       "                         </td>,\n",
       " <td class=\"table-body__cell u-text-right u-hide-phablet\">\n",
       "                                 846 v Sri Lanka, 20/10/2017\n",
       "                         </td>]"
      ]
     },
     "execution_count": 76,
     "metadata": {},
     "output_type": "execute_result"
    }
   ],
   "source": [
    "career_best2=soup7.find_all('td',class_='table-body__cell u-text-right u-hide-phablet')\n",
    "career_best2[0:2]"
   ]
  },
  {
   "cell_type": "code",
   "execution_count": 77,
   "metadata": {},
   "outputs": [],
   "source": [
    "CAREER_BEST=career_best1+career_best2"
   ]
  },
  {
   "cell_type": "code",
   "execution_count": 78,
   "metadata": {},
   "outputs": [
    {
     "data": {
      "text/plain": [
       "['                                911 v England, 12/07/2018                        ',\n",
       " '                                885 v Sri Lanka, 06/07/2019                        ',\n",
       " '                                846 v Sri Lanka, 20/10/2017                        ',\n",
       " '                                841 v Bangladesh, 05/06/2019                        ',\n",
       " '                                798 v England, 25/06/2019                        ',\n",
       " '                                820 v Australia, 06/07/2019                        ',\n",
       " '                                880 v Pakistan, 26/01/2017                        ',\n",
       " '                                799 v India, 09/07/2019                        ',\n",
       " '                                813 v Sri Lanka, 10/03/2019                        ',\n",
       " '                                777 v Australia, 21/06/2018                        ']"
      ]
     },
     "execution_count": 78,
     "metadata": {},
     "output_type": "execute_result"
    }
   ],
   "source": [
    "for i in CAREER_BEST:\n",
    "   Career_best_Record.append(i.get_text().replace(\"\\n\",\"\"))\n",
    "Career_best_Record[0:10]"
   ]
  },
  {
   "cell_type": "code",
   "execution_count": 79,
   "metadata": {},
   "outputs": [
    {
     "data": {
      "text/html": [
       "<div>\n",
       "<style scoped>\n",
       "    .dataframe tbody tr th:only-of-type {\n",
       "        vertical-align: middle;\n",
       "    }\n",
       "\n",
       "    .dataframe tbody tr th {\n",
       "        vertical-align: top;\n",
       "    }\n",
       "\n",
       "    .dataframe thead th {\n",
       "        text-align: right;\n",
       "    }\n",
       "</style>\n",
       "<table border=\"1\" class=\"dataframe\">\n",
       "  <thead>\n",
       "    <tr style=\"text-align: right;\">\n",
       "      <th></th>\n",
       "      <th>BATSMAN NAME</th>\n",
       "      <th>TEAM</th>\n",
       "      <th>RATING</th>\n",
       "      <th>CAREER BEST RECORD</th>\n",
       "    </tr>\n",
       "  </thead>\n",
       "  <tbody>\n",
       "    <tr>\n",
       "      <th>0</th>\n",
       "      <td>Virat Kohli</td>\n",
       "      <td>IND</td>\n",
       "      <td>870</td>\n",
       "      <td>911 v England,...</td>\n",
       "    </tr>\n",
       "    <tr>\n",
       "      <th>1</th>\n",
       "      <td>Rohit Sharma</td>\n",
       "      <td>IND</td>\n",
       "      <td>842</td>\n",
       "      <td>885 v Sri Lank...</td>\n",
       "    </tr>\n",
       "    <tr>\n",
       "      <th>2</th>\n",
       "      <td>Babar Azam</td>\n",
       "      <td>PAK</td>\n",
       "      <td>837</td>\n",
       "      <td>846 v Sri Lank...</td>\n",
       "    </tr>\n",
       "    <tr>\n",
       "      <th>3</th>\n",
       "      <td>Ross Taylor</td>\n",
       "      <td>NZ</td>\n",
       "      <td>818</td>\n",
       "      <td>841 v Banglade...</td>\n",
       "    </tr>\n",
       "    <tr>\n",
       "      <th>4</th>\n",
       "      <td>Aaron Finch</td>\n",
       "      <td>AUS</td>\n",
       "      <td>791</td>\n",
       "      <td>798 v England,...</td>\n",
       "    </tr>\n",
       "    <tr>\n",
       "      <th>5</th>\n",
       "      <td>Francois du Plessis</td>\n",
       "      <td>SA</td>\n",
       "      <td>790</td>\n",
       "      <td>820 v Australi...</td>\n",
       "    </tr>\n",
       "    <tr>\n",
       "      <th>6</th>\n",
       "      <td>David Warner</td>\n",
       "      <td>AUS</td>\n",
       "      <td>773</td>\n",
       "      <td>880 v Pakistan...</td>\n",
       "    </tr>\n",
       "    <tr>\n",
       "      <th>7</th>\n",
       "      <td>Kane Williamson</td>\n",
       "      <td>NZ</td>\n",
       "      <td>765</td>\n",
       "      <td>799 v India, 0...</td>\n",
       "    </tr>\n",
       "    <tr>\n",
       "      <th>8</th>\n",
       "      <td>Quinton de Kock</td>\n",
       "      <td>SA</td>\n",
       "      <td>755</td>\n",
       "      <td>813 v Sri Lank...</td>\n",
       "    </tr>\n",
       "    <tr>\n",
       "      <th>9</th>\n",
       "      <td>Jonny Bairstow</td>\n",
       "      <td>ENG</td>\n",
       "      <td>754</td>\n",
       "      <td>777 v Australi...</td>\n",
       "    </tr>\n",
       "  </tbody>\n",
       "</table>\n",
       "</div>"
      ],
      "text/plain": [
       "          BATSMAN NAME TEAM RATING  \\\n",
       "0          Virat Kohli  IND    870   \n",
       "1         Rohit Sharma  IND    842   \n",
       "2           Babar Azam  PAK    837   \n",
       "3          Ross Taylor   NZ    818   \n",
       "4          Aaron Finch  AUS    791   \n",
       "5  Francois du Plessis   SA    790   \n",
       "6         David Warner  AUS    773   \n",
       "7      Kane Williamson   NZ    765   \n",
       "8      Quinton de Kock   SA    755   \n",
       "9       Jonny Bairstow  ENG    754   \n",
       "\n",
       "                                  CAREER BEST RECORD  \n",
       "0                                  911 v England,...  \n",
       "1                                  885 v Sri Lank...  \n",
       "2                                  846 v Sri Lank...  \n",
       "3                                  841 v Banglade...  \n",
       "4                                  798 v England,...  \n",
       "5                                  820 v Australi...  \n",
       "6                                  880 v Pakistan...  \n",
       "7                                  799 v India, 0...  \n",
       "8                                  813 v Sri Lank...  \n",
       "9                                  777 v Australi...  "
      ]
     },
     "execution_count": 79,
     "metadata": {},
     "output_type": "execute_result"
    }
   ],
   "source": [
    "ICC_MENS=pd.DataFrame({})\n",
    "ICC_MENS['BATSMAN NAME']=Player_Name7[0:10]\n",
    "ICC_MENS['TEAM']=Team10[0:10]\n",
    "ICC_MENS['RATING']=Ratings10[0:10]\n",
    "ICC_MENS['CAREER BEST RECORD']=Career_best_Record[0:10]\n",
    "\n",
    "ICC_MENS"
   ]
  },
  {
   "cell_type": "markdown",
   "metadata": {},
   "source": [
    "##########################################################################################################################"
   ]
  },
  {
   "cell_type": "markdown",
   "metadata": {},
   "source": [
    "# TOP 10 ODI BOWLERS"
   ]
  },
  {
   "cell_type": "code",
   "execution_count": 80,
   "metadata": {},
   "outputs": [],
   "source": [
    "url8 = \"https://www.icc-cricket.com/rankings/mens/player-rankings/odi/bowling\"\n",
    "r8 = requests.get(url8)# r variable has all the HTML code\n",
    "htmlContent8 = r8.content# r returns response so if we want the code we write r.content\n",
    "#print(htmlContent7)\n",
    "soup8 = BeautifulSoup(r8.content, 'html.parser')\n",
    "Player_Name11=[]\n",
    "Team11=[]\n",
    "Ratings11=[]\n",
    "Career_best_Record11=[]"
   ]
  },
  {
   "cell_type": "code",
   "execution_count": 81,
   "metadata": {},
   "outputs": [
    {
     "data": {
      "text/plain": [
       "[<div class=\"rankings-block__banner--name-large\">Trent Boult</div>]"
      ]
     },
     "execution_count": 81,
     "metadata": {},
     "output_type": "execute_result"
    }
   ],
   "source": [
    "player_A=soup8.find_all('div',class_='rankings-block__banner--name-large')\n",
    "player_A"
   ]
  },
  {
   "cell_type": "code",
   "execution_count": 82,
   "metadata": {},
   "outputs": [
    {
     "data": {
      "text/plain": [
       "[<td class=\"table-body__cell rankings-table__name name\">\n",
       " <a href=\"/rankings/mens/player-rankings/4572\">Mujeeb Ur Rahman</a>\n",
       " </td>,\n",
       " <td class=\"table-body__cell rankings-table__name name\">\n",
       " <a href=\"/rankings/mens/player-rankings/1124\">Jasprit Bumrah</a>\n",
       " </td>]"
      ]
     },
     "execution_count": 82,
     "metadata": {},
     "output_type": "execute_result"
    }
   ],
   "source": [
    "player_B=soup8.find_all('td',class_='table-body__cell rankings-table__name name')\n",
    "player_B[0:2]"
   ]
  },
  {
   "cell_type": "code",
   "execution_count": 83,
   "metadata": {},
   "outputs": [],
   "source": [
    "PLAYER2=player_A+player_B"
   ]
  },
  {
   "cell_type": "code",
   "execution_count": 84,
   "metadata": {},
   "outputs": [
    {
     "data": {
      "text/plain": [
       "['Trent Boult',\n",
       " 'Mujeeb Ur Rahman',\n",
       " 'Jasprit Bumrah',\n",
       " 'Chris Woakes',\n",
       " 'Kagiso Rabada',\n",
       " 'Josh Hazlewood',\n",
       " 'Mohammad Amir',\n",
       " 'Pat Cummins',\n",
       " 'Matt Henry',\n",
       " 'Jofra Archer']"
      ]
     },
     "execution_count": 84,
     "metadata": {},
     "output_type": "execute_result"
    }
   ],
   "source": [
    "for i in PLAYER2:\n",
    "    Player_Name11.append(i.get_text().replace(\"\\n\",\"\"))\n",
    "Player_Name11[0:10]"
   ]
  },
  {
   "cell_type": "code",
   "execution_count": 85,
   "metadata": {},
   "outputs": [],
   "source": [
    "Team_A=soup8.find_all('div',class_='rankings-block__banner--nationality')\n",
    "Team_B=soup8.find_all('span',class_='table-body__logo-text')\n"
   ]
  },
  {
   "cell_type": "code",
   "execution_count": 86,
   "metadata": {},
   "outputs": [],
   "source": [
    "TEAM2=Team_A+Team_B"
   ]
  },
  {
   "cell_type": "code",
   "execution_count": 87,
   "metadata": {},
   "outputs": [
    {
     "data": {
      "text/plain": [
       "['NZ', 'AFG', 'IND', 'ENG', 'SA', 'AUS', 'PAK', 'AUS', 'NZ', 'ENG']"
      ]
     },
     "execution_count": 87,
     "metadata": {},
     "output_type": "execute_result"
    }
   ],
   "source": [
    "for i in TEAM2:\n",
    "    Team11.append(i.get_text().replace(\"\\n\",\"\"))\n",
    "Team11[0:10]"
   ]
  },
  {
   "cell_type": "code",
   "execution_count": 88,
   "metadata": {},
   "outputs": [],
   "source": [
    "ratings_A=soup8.find_all('div',class_='rankings-block__banner--rating')\n",
    "ratings_B=soup8.find_all('td',class_='table-body__cell rating')"
   ]
  },
  {
   "cell_type": "code",
   "execution_count": 89,
   "metadata": {},
   "outputs": [],
   "source": [
    "RATING_2=ratings_A+ratings_B"
   ]
  },
  {
   "cell_type": "code",
   "execution_count": 90,
   "metadata": {},
   "outputs": [
    {
     "data": {
      "text/plain": [
       "['722', '701', '700', '675', '665', '660', '647', '646', '641', '637']"
      ]
     },
     "execution_count": 90,
     "metadata": {},
     "output_type": "execute_result"
    }
   ],
   "source": [
    "for i in RATING_2:\n",
    "    Ratings11.append(i.get_text().replace(\"\\n\",\"\"))\n",
    "Ratings11[0:10]"
   ]
  },
  {
   "cell_type": "code",
   "execution_count": 91,
   "metadata": {},
   "outputs": [],
   "source": [
    "career_best_A=soup8.find_all('span',class_='rankings-block__career-best-text')\n",
    "career_best_B=soup8.find_all('td',class_='table-body__cell u-text-right u-hide-phablet')"
   ]
  },
  {
   "cell_type": "code",
   "execution_count": 92,
   "metadata": {},
   "outputs": [],
   "source": [
    "CAREER_BEST_A=career_best_A+career_best_B"
   ]
  },
  {
   "cell_type": "code",
   "execution_count": 93,
   "metadata": {},
   "outputs": [
    {
     "data": {
      "text/plain": [
       "['                                770 v West Indies, 22/06/2019                        ',\n",
       " '                                707 v West Indies, 11/11/2019                        ',\n",
       " '                                841 v West Indies, 01/11/2018                        ',\n",
       " '                                676 v New Zealand, 14/07/2019                        ',\n",
       " '                                724 v England, 29/05/2017                        ',\n",
       " '                                733 v England, 26/01/2018                        ',\n",
       " '                                663 v Sri Lanka, 02/10/2019                        ',\n",
       " '                                729 v Pakistan, 12/06/2019                        ',\n",
       " '                                675 v Australia, 08/02/2016                        ',\n",
       " '                                642 v Australia, 13/09/2020                        ']"
      ]
     },
     "execution_count": 93,
     "metadata": {},
     "output_type": "execute_result"
    }
   ],
   "source": [
    "for i in CAREER_BEST_A:\n",
    "    Career_best_Record11.append(i.get_text().replace(\"\\n\",\"\"))\n",
    "Career_best_Record11[0:10]"
   ]
  },
  {
   "cell_type": "code",
   "execution_count": 94,
   "metadata": {},
   "outputs": [
    {
     "data": {
      "text/html": [
       "<div>\n",
       "<style scoped>\n",
       "    .dataframe tbody tr th:only-of-type {\n",
       "        vertical-align: middle;\n",
       "    }\n",
       "\n",
       "    .dataframe tbody tr th {\n",
       "        vertical-align: top;\n",
       "    }\n",
       "\n",
       "    .dataframe thead th {\n",
       "        text-align: right;\n",
       "    }\n",
       "</style>\n",
       "<table border=\"1\" class=\"dataframe\">\n",
       "  <thead>\n",
       "    <tr style=\"text-align: right;\">\n",
       "      <th></th>\n",
       "      <th>BATSMAN NAME</th>\n",
       "      <th>TEAM</th>\n",
       "      <th>RATING</th>\n",
       "      <th>CAREER BEST RATING</th>\n",
       "    </tr>\n",
       "  </thead>\n",
       "  <tbody>\n",
       "    <tr>\n",
       "      <th>0</th>\n",
       "      <td>Trent Boult</td>\n",
       "      <td>NZ</td>\n",
       "      <td>722</td>\n",
       "      <td>770 v West Ind...</td>\n",
       "    </tr>\n",
       "    <tr>\n",
       "      <th>1</th>\n",
       "      <td>Mujeeb Ur Rahman</td>\n",
       "      <td>AFG</td>\n",
       "      <td>701</td>\n",
       "      <td>707 v West Ind...</td>\n",
       "    </tr>\n",
       "    <tr>\n",
       "      <th>2</th>\n",
       "      <td>Jasprit Bumrah</td>\n",
       "      <td>IND</td>\n",
       "      <td>700</td>\n",
       "      <td>841 v West Ind...</td>\n",
       "    </tr>\n",
       "    <tr>\n",
       "      <th>3</th>\n",
       "      <td>Chris Woakes</td>\n",
       "      <td>ENG</td>\n",
       "      <td>675</td>\n",
       "      <td>676 v New Zeal...</td>\n",
       "    </tr>\n",
       "    <tr>\n",
       "      <th>4</th>\n",
       "      <td>Kagiso Rabada</td>\n",
       "      <td>SA</td>\n",
       "      <td>665</td>\n",
       "      <td>724 v England,...</td>\n",
       "    </tr>\n",
       "    <tr>\n",
       "      <th>5</th>\n",
       "      <td>Josh Hazlewood</td>\n",
       "      <td>AUS</td>\n",
       "      <td>660</td>\n",
       "      <td>733 v England,...</td>\n",
       "    </tr>\n",
       "    <tr>\n",
       "      <th>6</th>\n",
       "      <td>Mohammad Amir</td>\n",
       "      <td>PAK</td>\n",
       "      <td>647</td>\n",
       "      <td>663 v Sri Lank...</td>\n",
       "    </tr>\n",
       "    <tr>\n",
       "      <th>7</th>\n",
       "      <td>Pat Cummins</td>\n",
       "      <td>AUS</td>\n",
       "      <td>646</td>\n",
       "      <td>729 v Pakistan...</td>\n",
       "    </tr>\n",
       "    <tr>\n",
       "      <th>8</th>\n",
       "      <td>Matt Henry</td>\n",
       "      <td>NZ</td>\n",
       "      <td>641</td>\n",
       "      <td>675 v Australi...</td>\n",
       "    </tr>\n",
       "    <tr>\n",
       "      <th>9</th>\n",
       "      <td>Jofra Archer</td>\n",
       "      <td>ENG</td>\n",
       "      <td>637</td>\n",
       "      <td>642 v Australi...</td>\n",
       "    </tr>\n",
       "  </tbody>\n",
       "</table>\n",
       "</div>"
      ],
      "text/plain": [
       "       BATSMAN NAME TEAM RATING  \\\n",
       "0       Trent Boult   NZ    722   \n",
       "1  Mujeeb Ur Rahman  AFG    701   \n",
       "2    Jasprit Bumrah  IND    700   \n",
       "3      Chris Woakes  ENG    675   \n",
       "4     Kagiso Rabada   SA    665   \n",
       "5    Josh Hazlewood  AUS    660   \n",
       "6     Mohammad Amir  PAK    647   \n",
       "7       Pat Cummins  AUS    646   \n",
       "8        Matt Henry   NZ    641   \n",
       "9      Jofra Archer  ENG    637   \n",
       "\n",
       "                                  CAREER BEST RATING  \n",
       "0                                  770 v West Ind...  \n",
       "1                                  707 v West Ind...  \n",
       "2                                  841 v West Ind...  \n",
       "3                                  676 v New Zeal...  \n",
       "4                                  724 v England,...  \n",
       "5                                  733 v England,...  \n",
       "6                                  663 v Sri Lank...  \n",
       "7                                  729 v Pakistan...  \n",
       "8                                  675 v Australi...  \n",
       "9                                  642 v Australi...  "
      ]
     },
     "execution_count": 94,
     "metadata": {},
     "output_type": "execute_result"
    }
   ],
   "source": [
    "ICC_BOWL=pd.DataFrame({})\n",
    "ICC_BOWL['BATSMAN NAME']=Player_Name11[0:10]\n",
    "ICC_BOWL['TEAM']=Team11[0:10]\n",
    "ICC_BOWL['RATING']=Ratings11[0:10]\n",
    "ICC_BOWL['CAREER BEST RATING']=Career_best_Record11[0:10]\n",
    "\n",
    "ICC_BOWL"
   ]
  },
  {
   "cell_type": "markdown",
   "metadata": {},
   "source": [
    "###############################################################################################################################"
   ]
  },
  {
   "cell_type": "markdown",
   "metadata": {},
   "source": [
    "# ICC ODI RANKING WOMENS"
   ]
  },
  {
   "cell_type": "code",
   "execution_count": 95,
   "metadata": {},
   "outputs": [
    {
     "data": {
      "text/plain": [
       "[<span class=\"u-hide-phablet\">Australia</span>,\n",
       " <span class=\"u-hide-phablet\">India</span>]"
      ]
     },
     "execution_count": 95,
     "metadata": {},
     "output_type": "execute_result"
    }
   ],
   "source": [
    "url12 = \"https://www.icc-cricket.com/rankings/womens/team-rankings/odi\"\n",
    "r12 = requests.get(url12)# r variable has all the HTML code\n",
    "htmlContent12 = r12.content# r returns response so if we want the code we write r.content\n",
    "#print(htmlContent)\n",
    "htmlText12 = r12.text\n",
    "#print(htmlText)\n",
    "soup12 = BeautifulSoup(r12.content, 'html.parser')\n",
    "Teams_12=[]\n",
    "Matches_12=[]\n",
    "Points_12=[]\n",
    "Ratings_12=[]\n",
    "\n",
    "teams13=soup12.find_all('span',class_='u-hide-phablet')\n",
    "teams13[0:2]"
   ]
  },
  {
   "cell_type": "code",
   "execution_count": 96,
   "metadata": {},
   "outputs": [
    {
     "data": {
      "text/plain": [
       "['Australia',\n",
       " 'India',\n",
       " 'England',\n",
       " 'South Africa',\n",
       " 'New Zealand',\n",
       " 'West Indies',\n",
       " 'Pakistan',\n",
       " 'Bangladesh',\n",
       " 'Sri Lanka',\n",
       " 'Ireland']"
      ]
     },
     "execution_count": 96,
     "metadata": {},
     "output_type": "execute_result"
    }
   ],
   "source": [
    "for i in teams13[0:10]:\n",
    "    Teams_12.append(i.get_text().replace(\"\\n\",\"\"))\n",
    "Teams_12[0:10]"
   ]
  },
  {
   "cell_type": "code",
   "execution_count": 97,
   "metadata": {},
   "outputs": [],
   "source": [
    "matches13=soup12.find_all('td',class_='rankings-block__banner--matches')"
   ]
  },
  {
   "cell_type": "code",
   "execution_count": 98,
   "metadata": {},
   "outputs": [],
   "source": [
    "matches14=soup12.find_all('td',class_='table-body__cell u-center-matches')"
   ]
  },
  {
   "cell_type": "code",
   "execution_count": 99,
   "metadata": {},
   "outputs": [],
   "source": [
    "matches15=matches13+matches14"
   ]
  },
  {
   "cell_type": "code",
   "execution_count": 100,
   "metadata": {},
   "outputs": [
    {
     "data": {
      "text/plain": [
       "['15']"
      ]
     },
     "execution_count": 100,
     "metadata": {},
     "output_type": "execute_result"
    }
   ],
   "source": [
    "for i in matches15:\n",
    "    Matches_12.append(i.get_text().replace(\"\\n\",\"\"))\n",
    "Matches_12[0:3]"
   ]
  },
  {
   "cell_type": "code",
   "execution_count": 101,
   "metadata": {},
   "outputs": [],
   "source": [
    "ratings13=soup12.find_all('td',class_='rankings-block__banner--rating u-text-right')\n",
    "ratings14=soup12.find_all('td',class_='table-body__cell u-text-right rating')\n",
    "ratings15=ratings13+ratings14"
   ]
  },
  {
   "cell_type": "code",
   "execution_count": 102,
   "metadata": {},
   "outputs": [
    {
     "data": {
      "text/plain": [
       "['162', '121', '119', '107', '92', '85', '77', '61', '47', '13']"
      ]
     },
     "execution_count": 102,
     "metadata": {},
     "output_type": "execute_result"
    }
   ],
   "source": [
    "for i in ratings15:\n",
    "    Ratings_12.append(i.text.replace(\"\\n\",\"\").strip())\n",
    "Ratings_12"
   ]
  },
  {
   "cell_type": "code",
   "execution_count": 103,
   "metadata": {},
   "outputs": [
    {
     "data": {
      "text/plain": [
       "[<td class=\"table-body__cell u-text-right rating\">121</td>,\n",
       " <td class=\"table-body__cell u-text-right rating\">119</td>,\n",
       " <td class=\"table-body__cell u-text-right rating\">107</td>,\n",
       " <td class=\"table-body__cell u-text-right rating\">92</td>]"
      ]
     },
     "execution_count": 103,
     "metadata": {},
     "output_type": "execute_result"
    }
   ],
   "source": [
    "points13=soup12.find_all('td',class_='table-body__cell u-text-right rating')\n",
    "points13[0:4]"
   ]
  },
  {
   "cell_type": "code",
   "execution_count": 104,
   "metadata": {},
   "outputs": [
    {
     "data": {
      "text/plain": [
       "['121', '119', '107', '92', '85', '77', '61', '47', '13']"
      ]
     },
     "execution_count": 104,
     "metadata": {},
     "output_type": "execute_result"
    }
   ],
   "source": [
    "for i in points13:\n",
    "    Points_12.append(i.text.replace(\"\\n\",\"\").strip())\n",
    "Points_12[0:10]"
   ]
  },
  {
   "cell_type": "code",
   "execution_count": 105,
   "metadata": {},
   "outputs": [
    {
     "data": {
      "text/html": [
       "<div>\n",
       "<style scoped>\n",
       "    .dataframe tbody tr th:only-of-type {\n",
       "        vertical-align: middle;\n",
       "    }\n",
       "\n",
       "    .dataframe tbody tr th {\n",
       "        vertical-align: top;\n",
       "    }\n",
       "\n",
       "    .dataframe thead th {\n",
       "        text-align: right;\n",
       "    }\n",
       "</style>\n",
       "<table border=\"1\" class=\"dataframe\">\n",
       "  <thead>\n",
       "    <tr style=\"text-align: right;\">\n",
       "      <th></th>\n",
       "      <th>TEAM_NAME</th>\n",
       "      <th>RATINGS_</th>\n",
       "    </tr>\n",
       "  </thead>\n",
       "  <tbody>\n",
       "    <tr>\n",
       "      <th>0</th>\n",
       "      <td>Australia</td>\n",
       "      <td>162</td>\n",
       "    </tr>\n",
       "    <tr>\n",
       "      <th>1</th>\n",
       "      <td>India</td>\n",
       "      <td>121</td>\n",
       "    </tr>\n",
       "    <tr>\n",
       "      <th>2</th>\n",
       "      <td>England</td>\n",
       "      <td>119</td>\n",
       "    </tr>\n",
       "    <tr>\n",
       "      <th>3</th>\n",
       "      <td>South Africa</td>\n",
       "      <td>107</td>\n",
       "    </tr>\n",
       "    <tr>\n",
       "      <th>4</th>\n",
       "      <td>New Zealand</td>\n",
       "      <td>92</td>\n",
       "    </tr>\n",
       "    <tr>\n",
       "      <th>5</th>\n",
       "      <td>West Indies</td>\n",
       "      <td>85</td>\n",
       "    </tr>\n",
       "    <tr>\n",
       "      <th>6</th>\n",
       "      <td>Pakistan</td>\n",
       "      <td>77</td>\n",
       "    </tr>\n",
       "    <tr>\n",
       "      <th>7</th>\n",
       "      <td>Bangladesh</td>\n",
       "      <td>61</td>\n",
       "    </tr>\n",
       "    <tr>\n",
       "      <th>8</th>\n",
       "      <td>Sri Lanka</td>\n",
       "      <td>47</td>\n",
       "    </tr>\n",
       "    <tr>\n",
       "      <th>9</th>\n",
       "      <td>Ireland</td>\n",
       "      <td>13</td>\n",
       "    </tr>\n",
       "  </tbody>\n",
       "</table>\n",
       "</div>"
      ],
      "text/plain": [
       "      TEAM_NAME RATINGS_\n",
       "0     Australia      162\n",
       "1         India      121\n",
       "2       England      119\n",
       "3  South Africa      107\n",
       "4   New Zealand       92\n",
       "5   West Indies       85\n",
       "6      Pakistan       77\n",
       "7    Bangladesh       61\n",
       "8     Sri Lanka       47\n",
       "9       Ireland       13"
      ]
     },
     "execution_count": 105,
     "metadata": {},
     "output_type": "execute_result"
    }
   ],
   "source": [
    "ICC_WOMAN=pd.DataFrame({})\n",
    "ICC_WOMAN['TEAM_NAME']=Teams_12\n",
    "\n",
    "ICC_WOMAN['RATINGS_']=Ratings_12\n",
    "\n",
    "\n",
    "ICC_WOMAN[0:10]"
   ]
  },
  {
   "cell_type": "markdown",
   "metadata": {},
   "source": [
    "#########################################################################################################################"
   ]
  },
  {
   "cell_type": "markdown",
   "metadata": {},
   "source": [
    "# Women's ODI Player Rankings"
   ]
  },
  {
   "cell_type": "code",
   "execution_count": 106,
   "metadata": {},
   "outputs": [],
   "source": [
    "url15 = \"https://www.icc-cricket.com/rankings/womens/player-rankings/odi/batting\"\n",
    "r15 = requests.get(url15)# r variable has all the HTML code\n",
    "htmlContent15 = r15.content# r returns response so if we want the code we write r.content\n",
    "#print(htmlContent15)\n",
    "soup15 = BeautifulSoup(r15.content, 'html.parser')\n",
    "Player_Name15=[]\n",
    "Team15=[]\n",
    "Ratings15=[]\n",
    "Career_best_Record15=[]\n",
    "player13=soup15.find_all('div',class_='rankings-block__banner--name-large')\n",
    "player14=soup15.find_all('td',class_='table-body__cell rankings-table__name name')\n",
    "PLAYER_WW=player13+player14"
   ]
  },
  {
   "cell_type": "code",
   "execution_count": 107,
   "metadata": {},
   "outputs": [
    {
     "data": {
      "text/plain": [
       "['Meg Lanning',\n",
       " 'Stafanie Taylor',\n",
       " 'Alyssa Healy',\n",
       " 'Smriti Mandhana',\n",
       " 'Amy Satterthwaite',\n",
       " 'Tammy Beaumont',\n",
       " 'Ellyse Perry',\n",
       " 'Lizelle Lee',\n",
       " 'Laura Wolvaardt',\n",
       " 'Mithali Raj']"
      ]
     },
     "execution_count": 107,
     "metadata": {},
     "output_type": "execute_result"
    }
   ],
   "source": [
    "for i in PLAYER_WW:\n",
    "    Player_Name15.append(i.get_text().replace(\"\\n\",\"\"))\n",
    "Player_Name15[0:10]"
   ]
  },
  {
   "cell_type": "code",
   "execution_count": 108,
   "metadata": {},
   "outputs": [
    {
     "data": {
      "text/plain": [
       "['AUS', 'WI', 'AUS', 'IND', 'NZ', 'ENG', 'AUS', 'SA', 'SA', 'IND']"
      ]
     },
     "execution_count": 108,
     "metadata": {},
     "output_type": "execute_result"
    }
   ],
   "source": [
    "Team13=soup15.find_all('div',class_='rankings-block__banner--nationality')\n",
    "Team14=soup15.find_all('span',class_='table-body__logo-text')\n",
    "TEAM_WW=Team13+Team14\n",
    "for i in TEAM_WW:\n",
    "    Team15.append(i.get_text().replace(\"\\n\",\"\"))\n",
    "Team15[0:10]"
   ]
  },
  {
   "cell_type": "code",
   "execution_count": 109,
   "metadata": {},
   "outputs": [
    {
     "data": {
      "text/plain": [
       "['749', '746', '741', '732', '723', '716', '691', '690', '689', '687']"
      ]
     },
     "execution_count": 109,
     "metadata": {},
     "output_type": "execute_result"
    }
   ],
   "source": [
    "ratings13=soup15.find_all('div',class_='rankings-block__banner--rating')\n",
    "ratings14=soup15.find_all('td',class_='table-body__cell rating')\n",
    "RATINGS_WW=ratings13+ratings14\n",
    "for i in RATINGS_WW:\n",
    "    Ratings15.append(i.get_text().replace(\"\\n\",\"\"))\n",
    "Ratings15[0:10]"
   ]
  },
  {
   "cell_type": "code",
   "execution_count": 110,
   "metadata": {},
   "outputs": [
    {
     "data": {
      "text/plain": [
       "['                                834 v New Zealand, 24/02/2016                        ',\n",
       " '                                765 v India, 02/03/2012                        ',\n",
       " '                                741 v New Zealand, 07/10/2020                        ',\n",
       " '                                797 v England, 28/02/2019                        ',\n",
       " '                                756 v Australia, 02/03/2017                        ',\n",
       " '                                738 v Australia, 04/07/2019                        ',\n",
       " '                                766 v West Indies, 11/09/2019                        ',\n",
       " '                                752 v England, 12/06/2018                        ',\n",
       " '                                712 v New Zealand, 25/01/2020                        ',\n",
       " '                                839 v Australia, 24/12/2004                        ']"
      ]
     },
     "execution_count": 110,
     "metadata": {},
     "output_type": "execute_result"
    }
   ],
   "source": [
    "career_best3=soup15.find_all('span',class_='rankings-block__career-best-text')\n",
    "career_best4=soup15.find_all('td',class_='table-body__cell u-text-right u-hide-phablet')\n",
    "CAREER_BEST_W=career_best3+career_best4\n",
    "for i in CAREER_BEST_W:\n",
    "   Career_best_Record15.append(i.get_text().replace(\"\\n\",\"\"))\n",
    "Career_best_Record15[0:10]"
   ]
  },
  {
   "cell_type": "code",
   "execution_count": 111,
   "metadata": {},
   "outputs": [
    {
     "data": {
      "text/html": [
       "<div>\n",
       "<style scoped>\n",
       "    .dataframe tbody tr th:only-of-type {\n",
       "        vertical-align: middle;\n",
       "    }\n",
       "\n",
       "    .dataframe tbody tr th {\n",
       "        vertical-align: top;\n",
       "    }\n",
       "\n",
       "    .dataframe thead th {\n",
       "        text-align: right;\n",
       "    }\n",
       "</style>\n",
       "<table border=\"1\" class=\"dataframe\">\n",
       "  <thead>\n",
       "    <tr style=\"text-align: right;\">\n",
       "      <th></th>\n",
       "      <th>BATSMAN NAME</th>\n",
       "      <th>TEAM</th>\n",
       "      <th>RATING</th>\n",
       "      <th>CAREER BEST RECORD</th>\n",
       "    </tr>\n",
       "  </thead>\n",
       "  <tbody>\n",
       "    <tr>\n",
       "      <th>0</th>\n",
       "      <td>Meg Lanning</td>\n",
       "      <td>AUS</td>\n",
       "      <td>749</td>\n",
       "      <td>834 v New Zeal...</td>\n",
       "    </tr>\n",
       "    <tr>\n",
       "      <th>1</th>\n",
       "      <td>Stafanie Taylor</td>\n",
       "      <td>WI</td>\n",
       "      <td>746</td>\n",
       "      <td>765 v India, 0...</td>\n",
       "    </tr>\n",
       "    <tr>\n",
       "      <th>2</th>\n",
       "      <td>Alyssa Healy</td>\n",
       "      <td>AUS</td>\n",
       "      <td>741</td>\n",
       "      <td>741 v New Zeal...</td>\n",
       "    </tr>\n",
       "    <tr>\n",
       "      <th>3</th>\n",
       "      <td>Smriti Mandhana</td>\n",
       "      <td>IND</td>\n",
       "      <td>732</td>\n",
       "      <td>797 v England,...</td>\n",
       "    </tr>\n",
       "    <tr>\n",
       "      <th>4</th>\n",
       "      <td>Amy Satterthwaite</td>\n",
       "      <td>NZ</td>\n",
       "      <td>723</td>\n",
       "      <td>756 v Australi...</td>\n",
       "    </tr>\n",
       "    <tr>\n",
       "      <th>5</th>\n",
       "      <td>Tammy Beaumont</td>\n",
       "      <td>ENG</td>\n",
       "      <td>716</td>\n",
       "      <td>738 v Australi...</td>\n",
       "    </tr>\n",
       "    <tr>\n",
       "      <th>6</th>\n",
       "      <td>Ellyse Perry</td>\n",
       "      <td>AUS</td>\n",
       "      <td>691</td>\n",
       "      <td>766 v West Ind...</td>\n",
       "    </tr>\n",
       "    <tr>\n",
       "      <th>7</th>\n",
       "      <td>Lizelle Lee</td>\n",
       "      <td>SA</td>\n",
       "      <td>690</td>\n",
       "      <td>752 v England,...</td>\n",
       "    </tr>\n",
       "    <tr>\n",
       "      <th>8</th>\n",
       "      <td>Laura Wolvaardt</td>\n",
       "      <td>SA</td>\n",
       "      <td>689</td>\n",
       "      <td>712 v New Zeal...</td>\n",
       "    </tr>\n",
       "    <tr>\n",
       "      <th>9</th>\n",
       "      <td>Mithali Raj</td>\n",
       "      <td>IND</td>\n",
       "      <td>687</td>\n",
       "      <td>839 v Australi...</td>\n",
       "    </tr>\n",
       "  </tbody>\n",
       "</table>\n",
       "</div>"
      ],
      "text/plain": [
       "        BATSMAN NAME TEAM RATING  \\\n",
       "0        Meg Lanning  AUS    749   \n",
       "1    Stafanie Taylor   WI    746   \n",
       "2       Alyssa Healy  AUS    741   \n",
       "3    Smriti Mandhana  IND    732   \n",
       "4  Amy Satterthwaite   NZ    723   \n",
       "5     Tammy Beaumont  ENG    716   \n",
       "6       Ellyse Perry  AUS    691   \n",
       "7        Lizelle Lee   SA    690   \n",
       "8    Laura Wolvaardt   SA    689   \n",
       "9        Mithali Raj  IND    687   \n",
       "\n",
       "                                  CAREER BEST RECORD  \n",
       "0                                  834 v New Zeal...  \n",
       "1                                  765 v India, 0...  \n",
       "2                                  741 v New Zeal...  \n",
       "3                                  797 v England,...  \n",
       "4                                  756 v Australi...  \n",
       "5                                  738 v Australi...  \n",
       "6                                  766 v West Ind...  \n",
       "7                                  752 v England,...  \n",
       "8                                  712 v New Zeal...  \n",
       "9                                  839 v Australi...  "
      ]
     },
     "execution_count": 111,
     "metadata": {},
     "output_type": "execute_result"
    }
   ],
   "source": [
    "ICC_WOMENS=pd.DataFrame({})\n",
    "ICC_WOMENS['BATSMAN NAME']=Player_Name15[0:10]\n",
    "ICC_WOMENS['TEAM']=Team15[0:10]\n",
    "ICC_WOMENS['RATING']=Ratings15[0:10]\n",
    "ICC_WOMENS['CAREER BEST RECORD']=Career_best_Record15[0:10]\n",
    "\n",
    "ICC_WOMENS"
   ]
  },
  {
   "cell_type": "markdown",
   "metadata": {},
   "source": [
    "##################################################################################################################################"
   ]
  },
  {
   "cell_type": "markdown",
   "metadata": {},
   "source": [
    "# Women's ODI All-Rounder Rankings"
   ]
  },
  {
   "cell_type": "code",
   "execution_count": 112,
   "metadata": {},
   "outputs": [
    {
     "data": {
      "text/plain": [
       "['Ellyse Perry',\n",
       " 'Stafanie Taylor',\n",
       " 'Marizanne Kapp',\n",
       " 'Deepti Sharma',\n",
       " 'Dane van Niekerk',\n",
       " 'Jess Jonassen',\n",
       " 'Sophie Devine',\n",
       " 'Natalie Sciver',\n",
       " 'Shikha Pandey',\n",
       " 'Katherine Brunt']"
      ]
     },
     "execution_count": 112,
     "metadata": {},
     "output_type": "execute_result"
    }
   ],
   "source": [
    "url20 = \"https://www.icc-cricket.com/rankings/womens/player-rankings/odi/all-rounder\"\n",
    "r20 = requests.get(url20)# r variable has all the HTML code\n",
    "htmlContent20= r20.content# r returns response so if we want the code we write r.content\n",
    "#print(htmlContent20)\n",
    "soup20= BeautifulSoup(r20.content, 'html.parser')\n",
    "Player_Name20=[]\n",
    "Team20=[]\n",
    "Ratings20=[]\n",
    "Career_best_Record20=[]\n",
    "player17=soup20.find_all('div',class_='rankings-block__banner--name-large')\n",
    "player18=soup20.find_all('td',class_='table-body__cell rankings-table__name name')\n",
    "PLAYER_WWA=player17+player18\n",
    "for i in PLAYER_WWA:\n",
    "    Player_Name20.append(i.get_text().replace(\"\\n\",\"\"))\n",
    "Player_Name20[0:10]"
   ]
  },
  {
   "cell_type": "code",
   "execution_count": 113,
   "metadata": {},
   "outputs": [
    {
     "data": {
      "text/plain": [
       "['AUS', 'WI', 'SA', 'IND', 'SA', 'AUS', 'NZ', 'ENG', 'IND', 'ENG']"
      ]
     },
     "execution_count": 113,
     "metadata": {},
     "output_type": "execute_result"
    }
   ],
   "source": [
    "Team17=soup20.find_all('div',class_='rankings-block__banner--nationality')\n",
    "Team18=soup20.find_all('span',class_='table-body__logo-text')\n",
    "TEAM_WWA=Team17+Team18\n",
    "for i in TEAM_WWA:\n",
    "    Team20.append(i.get_text().replace(\"\\n\",\"\"))\n",
    "Team20[0:10]"
   ]
  },
  {
   "cell_type": "code",
   "execution_count": 114,
   "metadata": {},
   "outputs": [
    {
     "data": {
      "text/plain": [
       "['460', '410', '389', '359', '335', '301', '289', '273', '250', '232']"
      ]
     },
     "execution_count": 114,
     "metadata": {},
     "output_type": "execute_result"
    }
   ],
   "source": [
    "ratings17=soup20.find_all('div',class_='rankings-block__banner--rating')\n",
    "ratings18=soup20.find_all('td',class_='table-body__cell rating')\n",
    "RATINGS_WWA=ratings17+ratings18\n",
    "for i in RATINGS_WWA:\n",
    "    Ratings20.append(i.get_text().replace(\"\\n\",\"\"))\n",
    "Ratings20[0:10]"
   ]
  },
  {
   "cell_type": "code",
   "execution_count": 115,
   "metadata": {},
   "outputs": [
    {
     "data": {
      "text/plain": [
       "['                                548 v West Indies, 11/09/2019                        ',\n",
       " '                                559 v New Zealand, 10/10/2013                        ',\n",
       " '                                389 v New Zealand, 30/01/2020                        ',\n",
       " '                                397 v South Africa, 09/10/2019                        ',\n",
       " '                                421 v Sri Lanka, 11/02/2019                        ',\n",
       " '                                308 v West Indies, 11/09/2019                        ',\n",
       " '                                305 v Australia, 05/10/2020                        ',\n",
       " '                                307 v Sri Lanka, 21/03/2019                        ',\n",
       " '                                262 v South Africa, 14/10/2019                        ',\n",
       " '                                270 v Sri Lanka, 16/03/2019                        ']"
      ]
     },
     "execution_count": 115,
     "metadata": {},
     "output_type": "execute_result"
    }
   ],
   "source": [
    "career_best17=soup20.find_all('span',class_='rankings-block__career-best-text')\n",
    "career_best18=soup20.find_all('td',class_='table-body__cell u-text-right u-hide-phablet')\n",
    "CAREER_BEST_WA=career_best17+career_best18\n",
    "for i in CAREER_BEST_WA:\n",
    "   Career_best_Record20.append(i.get_text().replace(\"\\n\",\"\"))\n",
    "Career_best_Record20[0:10]"
   ]
  },
  {
   "cell_type": "code",
   "execution_count": 116,
   "metadata": {},
   "outputs": [
    {
     "data": {
      "text/html": [
       "<div>\n",
       "<style scoped>\n",
       "    .dataframe tbody tr th:only-of-type {\n",
       "        vertical-align: middle;\n",
       "    }\n",
       "\n",
       "    .dataframe tbody tr th {\n",
       "        vertical-align: top;\n",
       "    }\n",
       "\n",
       "    .dataframe thead th {\n",
       "        text-align: right;\n",
       "    }\n",
       "</style>\n",
       "<table border=\"1\" class=\"dataframe\">\n",
       "  <thead>\n",
       "    <tr style=\"text-align: right;\">\n",
       "      <th></th>\n",
       "      <th>BATSMAN NAME</th>\n",
       "      <th>TEAM</th>\n",
       "      <th>RATING</th>\n",
       "      <th>CAREER BEST RECORD</th>\n",
       "    </tr>\n",
       "  </thead>\n",
       "  <tbody>\n",
       "    <tr>\n",
       "      <th>0</th>\n",
       "      <td>Ellyse Perry</td>\n",
       "      <td>AUS</td>\n",
       "      <td>460</td>\n",
       "      <td>548 v West Ind...</td>\n",
       "    </tr>\n",
       "    <tr>\n",
       "      <th>1</th>\n",
       "      <td>Stafanie Taylor</td>\n",
       "      <td>WI</td>\n",
       "      <td>410</td>\n",
       "      <td>559 v New Zeal...</td>\n",
       "    </tr>\n",
       "    <tr>\n",
       "      <th>2</th>\n",
       "      <td>Marizanne Kapp</td>\n",
       "      <td>SA</td>\n",
       "      <td>389</td>\n",
       "      <td>389 v New Zeal...</td>\n",
       "    </tr>\n",
       "    <tr>\n",
       "      <th>3</th>\n",
       "      <td>Deepti Sharma</td>\n",
       "      <td>IND</td>\n",
       "      <td>359</td>\n",
       "      <td>397 v South Af...</td>\n",
       "    </tr>\n",
       "    <tr>\n",
       "      <th>4</th>\n",
       "      <td>Dane van Niekerk</td>\n",
       "      <td>SA</td>\n",
       "      <td>335</td>\n",
       "      <td>421 v Sri Lank...</td>\n",
       "    </tr>\n",
       "    <tr>\n",
       "      <th>5</th>\n",
       "      <td>Jess Jonassen</td>\n",
       "      <td>AUS</td>\n",
       "      <td>301</td>\n",
       "      <td>308 v West Ind...</td>\n",
       "    </tr>\n",
       "    <tr>\n",
       "      <th>6</th>\n",
       "      <td>Sophie Devine</td>\n",
       "      <td>NZ</td>\n",
       "      <td>289</td>\n",
       "      <td>305 v Australi...</td>\n",
       "    </tr>\n",
       "    <tr>\n",
       "      <th>7</th>\n",
       "      <td>Natalie Sciver</td>\n",
       "      <td>ENG</td>\n",
       "      <td>273</td>\n",
       "      <td>307 v Sri Lank...</td>\n",
       "    </tr>\n",
       "    <tr>\n",
       "      <th>8</th>\n",
       "      <td>Shikha Pandey</td>\n",
       "      <td>IND</td>\n",
       "      <td>250</td>\n",
       "      <td>262 v South Af...</td>\n",
       "    </tr>\n",
       "    <tr>\n",
       "      <th>9</th>\n",
       "      <td>Katherine Brunt</td>\n",
       "      <td>ENG</td>\n",
       "      <td>232</td>\n",
       "      <td>270 v Sri Lank...</td>\n",
       "    </tr>\n",
       "  </tbody>\n",
       "</table>\n",
       "</div>"
      ],
      "text/plain": [
       "       BATSMAN NAME TEAM RATING  \\\n",
       "0      Ellyse Perry  AUS    460   \n",
       "1   Stafanie Taylor   WI    410   \n",
       "2    Marizanne Kapp   SA    389   \n",
       "3     Deepti Sharma  IND    359   \n",
       "4  Dane van Niekerk   SA    335   \n",
       "5     Jess Jonassen  AUS    301   \n",
       "6     Sophie Devine   NZ    289   \n",
       "7    Natalie Sciver  ENG    273   \n",
       "8     Shikha Pandey  IND    250   \n",
       "9   Katherine Brunt  ENG    232   \n",
       "\n",
       "                                  CAREER BEST RECORD  \n",
       "0                                  548 v West Ind...  \n",
       "1                                  559 v New Zeal...  \n",
       "2                                  389 v New Zeal...  \n",
       "3                                  397 v South Af...  \n",
       "4                                  421 v Sri Lank...  \n",
       "5                                  308 v West Ind...  \n",
       "6                                  305 v Australi...  \n",
       "7                                  307 v Sri Lank...  \n",
       "8                                  262 v South Af...  \n",
       "9                                  270 v Sri Lank...  "
      ]
     },
     "execution_count": 116,
     "metadata": {},
     "output_type": "execute_result"
    }
   ],
   "source": [
    "ICC_WOMENS_A=pd.DataFrame({})\n",
    "ICC_WOMENS_A['BATSMAN NAME']=Player_Name20[0:10]\n",
    "ICC_WOMENS_A['TEAM']=Team20[0:10]\n",
    "ICC_WOMENS_A['RATING']=Ratings20[0:10]\n",
    "ICC_WOMENS_A['CAREER BEST RECORD']=Career_best_Record20[0:10]\n",
    "\n",
    "ICC_WOMENS_A"
   ]
  },
  {
   "cell_type": "markdown",
   "metadata": {},
   "source": [
    "############################################################################################################################################"
   ]
  },
  {
   "cell_type": "markdown",
   "metadata": {},
   "source": [
    "# Mobile Phones Under 20,000 INR"
   ]
  },
  {
   "cell_type": "code",
   "execution_count": 127,
   "metadata": {},
   "outputs": [
    {
     "data": {
      "text/plain": [
       "['Redmi 9 (Sky Blue, 4GB RAM, 64GB Storage)',\n",
       " 'Samsung Galaxy M31 (Ocean Blue, 6GB RAM, 128GB Storage)',\n",
       " 'Samsung Galaxy M01 (Black, 3GB RAM, 32GB Storage) with No Cost EMI/Additional Exchange Offers',\n",
       " 'Samsung Galaxy M01 Core (Black, 2GB RAM, 32GB Storage) with No Cost EMI/Additional Exchange Offers',\n",
       " 'Samsung Galaxy M21 (Midnight Blue, 4GB RAM, 64GB Storage)',\n",
       " 'Samsung Galaxy M01 (Blue, 3GB RAM, 32GB Storage) with No Cost EMI/Additional Exchange Offers',\n",
       " 'Redmi 9A (Nature Green, 2GB Ram, 32GB Storage)',\n",
       " 'Samsung Galaxy M31 Prime Edition (Space Black, 6GB RAM, 128GB Storage)',\n",
       " 'Redmi Note 9 Pro (Interstellar Black, 4GB RAM, 64GB Storage)- Latest 8nm Snapdragon 720G & Alexa Hands-Free | Upto 6 Months No Cost EMI',\n",
       " 'Redmi Note 9 (Pebble Grey, 4GB RAM 64GB Storage) - 48MP Quad Camera & Full HD+ Display']"
      ]
     },
     "execution_count": 127,
     "metadata": {},
     "output_type": "execute_result"
    }
   ],
   "source": [
    "url32 = \"https://www.amazon.in/s?k=mobile+under+20000&rh=p_36%3A500000-2000000&crid=3KJ0WEF6R63UF&qid=1610700723&rnid=1318502031&sprefix=mobi%2Caps%2C486&ref=sr_nr_p_36_4\"\n",
    "r32 = requests.get(url32)# r variable has all the HTML code\n",
    "htmlContent32= r32.content# r returns response so if we want the code we write r.content\n",
    "#print(htmlContent21)\n",
    "soup32= BeautifulSoup(r32.content, 'html.parser')\n",
    "Mobile_Name=[]\n",
    "Price=[]\n",
    "Image=[]\n",
    "Average_Rating=[]\n",
    "name30=soup32.find_all('span',class_='a-size-medium a-color-base a-text-normal')\n",
    "for i in name30:\n",
    "    Mobile_Name.append(i.get_text().replace(\"\\n\",\"\"))\n",
    "Mobile_Name[0:10]"
   ]
  },
  {
   "cell_type": "code",
   "execution_count": 128,
   "metadata": {},
   "outputs": [],
   "source": [
    "# image=soup32.find_all('div',class_='s-image')\n",
    "# for i in image:\n",
    "#     Image.append(i.get_text().replace(\"\\n\",\"\"))\n",
    "# Image[0:10]"
   ]
  },
  {
   "cell_type": "code",
   "execution_count": 129,
   "metadata": {},
   "outputs": [
    {
     "data": {
      "text/plain": [
       "['8,999',\n",
       " '16,499',\n",
       " '7,499',\n",
       " '5,999',\n",
       " '13,999',\n",
       " '7,499',\n",
       " '6,999',\n",
       " '16,499',\n",
       " '12,999',\n",
       " '11,999']"
      ]
     },
     "execution_count": 129,
     "metadata": {},
     "output_type": "execute_result"
    }
   ],
   "source": [
    "price=soup32.find_all('span',class_='a-price-whole')\n",
    "for i in price:\n",
    "    Price.append(i.get_text().replace(\"\\n\",\"\"))\n",
    "Price[0:10]"
   ]
  },
  {
   "cell_type": "code",
   "execution_count": 130,
   "metadata": {},
   "outputs": [
    {
     "data": {
      "text/plain": [
       "['4.0 out of 5 stars',\n",
       " '4.2 out of 5 stars',\n",
       " '3.9 out of 5 stars',\n",
       " '4.2 out of 5 stars',\n",
       " '3.9 out of 5 stars',\n",
       " '4.1 out of 5 stars',\n",
       " '4.2 out of 5 stars',\n",
       " '4.2 out of 5 stars',\n",
       " '4.2 out of 5 stars',\n",
       " '4.0 out of 5 stars',\n",
       " '4.1 out of 5 stars',\n",
       " '4.0 out of 5 stars']"
      ]
     },
     "execution_count": 130,
     "metadata": {},
     "output_type": "execute_result"
    }
   ],
   "source": [
    "rating=soup32.find_all('i',class_='a-icon a-icon-star-small a-star-small-4 aok-align-bottom')\n",
    "for i in rating:\n",
    "    Average_Rating.append(i.get_text().replace(\"\\n\",\"\"))\n",
    "Average_Rating"
   ]
  },
  {
   "cell_type": "code",
   "execution_count": 131,
   "metadata": {},
   "outputs": [
    {
     "data": {
      "text/html": [
       "<div>\n",
       "<style scoped>\n",
       "    .dataframe tbody tr th:only-of-type {\n",
       "        vertical-align: middle;\n",
       "    }\n",
       "\n",
       "    .dataframe tbody tr th {\n",
       "        vertical-align: top;\n",
       "    }\n",
       "\n",
       "    .dataframe thead th {\n",
       "        text-align: right;\n",
       "    }\n",
       "</style>\n",
       "<table border=\"1\" class=\"dataframe\">\n",
       "  <thead>\n",
       "    <tr style=\"text-align: right;\">\n",
       "      <th></th>\n",
       "      <th>MOBILE_NAME</th>\n",
       "      <th>PRICE</th>\n",
       "      <th>AVERAGE_RATING</th>\n",
       "    </tr>\n",
       "  </thead>\n",
       "  <tbody>\n",
       "    <tr>\n",
       "      <th>0</th>\n",
       "      <td>Redmi 9 (Sky Blue, 4GB RAM, 64GB Storage)</td>\n",
       "      <td>8,999</td>\n",
       "      <td>4.0 out of 5 stars</td>\n",
       "    </tr>\n",
       "    <tr>\n",
       "      <th>1</th>\n",
       "      <td>Samsung Galaxy M31 (Ocean Blue, 6GB RAM, 128GB...</td>\n",
       "      <td>16,499</td>\n",
       "      <td>4.2 out of 5 stars</td>\n",
       "    </tr>\n",
       "    <tr>\n",
       "      <th>2</th>\n",
       "      <td>Samsung Galaxy M01 (Black, 3GB RAM, 32GB Stora...</td>\n",
       "      <td>7,499</td>\n",
       "      <td>3.9 out of 5 stars</td>\n",
       "    </tr>\n",
       "    <tr>\n",
       "      <th>3</th>\n",
       "      <td>Samsung Galaxy M01 Core (Black, 2GB RAM, 32GB ...</td>\n",
       "      <td>5,999</td>\n",
       "      <td>4.2 out of 5 stars</td>\n",
       "    </tr>\n",
       "    <tr>\n",
       "      <th>4</th>\n",
       "      <td>Samsung Galaxy M21 (Midnight Blue, 4GB RAM, 64...</td>\n",
       "      <td>13,999</td>\n",
       "      <td>3.9 out of 5 stars</td>\n",
       "    </tr>\n",
       "    <tr>\n",
       "      <th>5</th>\n",
       "      <td>Samsung Galaxy M01 (Blue, 3GB RAM, 32GB Storag...</td>\n",
       "      <td>7,499</td>\n",
       "      <td>4.1 out of 5 stars</td>\n",
       "    </tr>\n",
       "    <tr>\n",
       "      <th>6</th>\n",
       "      <td>Redmi 9A (Nature Green, 2GB Ram, 32GB Storage)</td>\n",
       "      <td>6,999</td>\n",
       "      <td>4.2 out of 5 stars</td>\n",
       "    </tr>\n",
       "    <tr>\n",
       "      <th>7</th>\n",
       "      <td>Samsung Galaxy M31 Prime Edition (Space Black,...</td>\n",
       "      <td>16,499</td>\n",
       "      <td>4.2 out of 5 stars</td>\n",
       "    </tr>\n",
       "    <tr>\n",
       "      <th>8</th>\n",
       "      <td>Redmi Note 9 Pro (Interstellar Black, 4GB RAM,...</td>\n",
       "      <td>12,999</td>\n",
       "      <td>4.2 out of 5 stars</td>\n",
       "    </tr>\n",
       "    <tr>\n",
       "      <th>9</th>\n",
       "      <td>Redmi Note 9 (Pebble Grey, 4GB RAM 64GB Storag...</td>\n",
       "      <td>11,999</td>\n",
       "      <td>4.0 out of 5 stars</td>\n",
       "    </tr>\n",
       "  </tbody>\n",
       "</table>\n",
       "</div>"
      ],
      "text/plain": [
       "                                         MOBILE_NAME   PRICE  \\\n",
       "0          Redmi 9 (Sky Blue, 4GB RAM, 64GB Storage)   8,999   \n",
       "1  Samsung Galaxy M31 (Ocean Blue, 6GB RAM, 128GB...  16,499   \n",
       "2  Samsung Galaxy M01 (Black, 3GB RAM, 32GB Stora...   7,499   \n",
       "3  Samsung Galaxy M01 Core (Black, 2GB RAM, 32GB ...   5,999   \n",
       "4  Samsung Galaxy M21 (Midnight Blue, 4GB RAM, 64...  13,999   \n",
       "5  Samsung Galaxy M01 (Blue, 3GB RAM, 32GB Storag...   7,499   \n",
       "6     Redmi 9A (Nature Green, 2GB Ram, 32GB Storage)   6,999   \n",
       "7  Samsung Galaxy M31 Prime Edition (Space Black,...  16,499   \n",
       "8  Redmi Note 9 Pro (Interstellar Black, 4GB RAM,...  12,999   \n",
       "9  Redmi Note 9 (Pebble Grey, 4GB RAM 64GB Storag...  11,999   \n",
       "\n",
       "       AVERAGE_RATING  \n",
       "0  4.0 out of 5 stars  \n",
       "1  4.2 out of 5 stars  \n",
       "2  3.9 out of 5 stars  \n",
       "3  4.2 out of 5 stars  \n",
       "4  3.9 out of 5 stars  \n",
       "5  4.1 out of 5 stars  \n",
       "6  4.2 out of 5 stars  \n",
       "7  4.2 out of 5 stars  \n",
       "8  4.2 out of 5 stars  \n",
       "9  4.0 out of 5 stars  "
      ]
     },
     "execution_count": 131,
     "metadata": {},
     "output_type": "execute_result"
    }
   ],
   "source": [
    "Mob=pd.DataFrame({})\n",
    "Mob['MOBILE_NAME']=Mobile_Name[0:10]\n",
    "Mob['PRICE']=Price[0:10]\n",
    "#Mob['IMAGE']=Image[0:10]\n",
    "Mob['AVERAGE_RATING']=Average_Rating[0:10]\n",
    "\n",
    "Mob"
   ]
  },
  {
   "cell_type": "markdown",
   "metadata": {},
   "source": [
    "##################################################################################################################################"
   ]
  },
  {
   "cell_type": "markdown",
   "metadata": {},
   "source": [
    "# San Francisco Bay Area/Monterey, CA\n"
   ]
  },
  {
   "cell_type": "code",
   "execution_count": 122,
   "metadata": {},
   "outputs": [
    {
     "data": {
      "text/plain": [
       "['NOW: Multiplehazards in effect',\n",
       " 'Overnight',\n",
       " 'M.L.KingDay',\n",
       " 'MondayNight',\n",
       " 'Tuesday',\n",
       " 'TuesdayNight',\n",
       " 'Wednesday',\n",
       " 'WednesdayNight',\n",
       " 'Thursday']"
      ]
     },
     "execution_count": 122,
     "metadata": {},
     "output_type": "execute_result"
    }
   ],
   "source": [
    "url22 = \"https://forecast.weather.gov/MapClick.php?lat=37.777120000000025&lon=-122.41963999999996#.YAKtTsUzYUs\"\n",
    "r22 = requests.get(url22)# r variable has all the HTML code\n",
    "htmlContent22= r22.content# r returns response so if we want the code we write r.content\n",
    "#print(htmlContent22)\n",
    "soup22= BeautifulSoup(r22.content, 'html.parser')\n",
    "Day=[]\n",
    "Short_Description=[]\n",
    "Temperature=[]\n",
    "Description=[]\n",
    "\n",
    "day=soup22.find_all('p',class_='period-name')\n",
    "for i in day:\n",
    "    Day.append(i.get_text().replace(\"\\n\",\"\"))\n",
    "Day"
   ]
  },
  {
   "cell_type": "code",
   "execution_count": 123,
   "metadata": {},
   "outputs": [
    {
     "data": {
      "text/plain": [
       "['Click HERE for Details',\n",
       " 'Partly Cloudy',\n",
       " 'Sunny',\n",
       " 'Clear thenMostly Clearand Breezy',\n",
       " 'Sunny andBreezy thenSunny',\n",
       " 'Clear',\n",
       " 'Sunny',\n",
       " 'Mostly Clear',\n",
       " 'Mostly Sunny']"
      ]
     },
     "execution_count": 123,
     "metadata": {},
     "output_type": "execute_result"
    }
   ],
   "source": [
    "short_descrition=soup22.find_all('p',class_='short-desc')\n",
    "for i in short_descrition:\n",
    "    Short_Description.append(i.get_text().replace(\"\\n\",\"\"))\n",
    "Short_Description"
   ]
  },
  {
   "cell_type": "code",
   "execution_count": 124,
   "metadata": {},
   "outputs": [
    {
     "data": {
      "text/plain": [
       "['Low: 51 °F', 'Low: 51 °F', 'Low: 46 °F', 'Low: 45 °F']"
      ]
     },
     "execution_count": 124,
     "metadata": {},
     "output_type": "execute_result"
    }
   ],
   "source": [
    "Temp=soup22.find_all('p',class_='temp temp-low')\n",
    "for i in Temp:\n",
    "    Temperature.append(i.get_text().replace(\"\\n\",\"\"))\n",
    "Temperature"
   ]
  },
  {
   "cell_type": "code",
   "execution_count": 125,
   "metadata": {},
   "outputs": [
    {
     "data": {
      "text/plain": [
       "['Partly cloudy, with a low around 51. Light west northwest wind. ',\n",
       " 'Sunny, with a high near 71. North wind 8 to 14 mph, with gusts as high as 30 mph. ',\n",
       " 'Mostly clear, with a low around 51. Breezy, with a north wind 17 to 25 mph, with gusts as high as 44 mph. ',\n",
       " 'Sunny, with a high near 68. Breezy, with a north northeast wind 20 to 24 mph, with gusts as high as 41 mph. ',\n",
       " 'Clear, with a low around 46. North northeast wind 3 to 6 mph. Winds could gust as high as 30 mph. ',\n",
       " 'Sunny, with a high near 63.',\n",
       " 'Mostly clear, with a low around 45.',\n",
       " 'Mostly sunny, with a high near 60.',\n",
       " 'Partly cloudy, with a low around 46.',\n",
       " 'A slight chance of rain.  Mostly sunny, with a high near 57.',\n",
       " 'A slight chance of rain.  Partly cloudy, with a low around 44.',\n",
       " 'Sunny, with a high near 58.',\n",
       " 'A slight chance of rain.  Mostly clear, with a low around 44.',\n",
       " 'A chance of rain.  Partly sunny, with a high near 56.']"
      ]
     },
     "execution_count": 125,
     "metadata": {},
     "output_type": "execute_result"
    }
   ],
   "source": [
    "descrition=soup22.find_all('div',class_='col-sm-10 forecast-text')\n",
    "for i in descrition:\n",
    "    Description.append(i.get_text().replace(\"\\n\",\"\"))\n",
    "Description"
   ]
  },
  {
   "cell_type": "code",
   "execution_count": 126,
   "metadata": {},
   "outputs": [
    {
     "data": {
      "text/html": [
       "<div>\n",
       "<style scoped>\n",
       "    .dataframe tbody tr th:only-of-type {\n",
       "        vertical-align: middle;\n",
       "    }\n",
       "\n",
       "    .dataframe tbody tr th {\n",
       "        vertical-align: top;\n",
       "    }\n",
       "\n",
       "    .dataframe thead th {\n",
       "        text-align: right;\n",
       "    }\n",
       "</style>\n",
       "<table border=\"1\" class=\"dataframe\">\n",
       "  <thead>\n",
       "    <tr style=\"text-align: right;\">\n",
       "      <th></th>\n",
       "      <th>Period</th>\n",
       "      <th>SHORT DESCRIPTION</th>\n",
       "      <th>DESCRIPTION</th>\n",
       "    </tr>\n",
       "  </thead>\n",
       "  <tbody>\n",
       "    <tr>\n",
       "      <th>0</th>\n",
       "      <td>NOW: Multiplehazards in effect</td>\n",
       "      <td>Click HERE for Details</td>\n",
       "      <td>Partly cloudy, with a low around 51. Light wes...</td>\n",
       "    </tr>\n",
       "    <tr>\n",
       "      <th>1</th>\n",
       "      <td>Overnight</td>\n",
       "      <td>Partly Cloudy</td>\n",
       "      <td>Sunny, with a high near 71. North wind 8 to 14...</td>\n",
       "    </tr>\n",
       "    <tr>\n",
       "      <th>2</th>\n",
       "      <td>M.L.KingDay</td>\n",
       "      <td>Sunny</td>\n",
       "      <td>Mostly clear, with a low around 51. Breezy, wi...</td>\n",
       "    </tr>\n",
       "    <tr>\n",
       "      <th>3</th>\n",
       "      <td>MondayNight</td>\n",
       "      <td>Clear thenMostly Clearand Breezy</td>\n",
       "      <td>Sunny, with a high near 68. Breezy, with a nor...</td>\n",
       "    </tr>\n",
       "    <tr>\n",
       "      <th>4</th>\n",
       "      <td>Tuesday</td>\n",
       "      <td>Sunny andBreezy thenSunny</td>\n",
       "      <td>Clear, with a low around 46. North northeast w...</td>\n",
       "    </tr>\n",
       "    <tr>\n",
       "      <th>5</th>\n",
       "      <td>TuesdayNight</td>\n",
       "      <td>Clear</td>\n",
       "      <td>Sunny, with a high near 63.</td>\n",
       "    </tr>\n",
       "    <tr>\n",
       "      <th>6</th>\n",
       "      <td>Wednesday</td>\n",
       "      <td>Sunny</td>\n",
       "      <td>Mostly clear, with a low around 45.</td>\n",
       "    </tr>\n",
       "  </tbody>\n",
       "</table>\n",
       "</div>"
      ],
      "text/plain": [
       "                           Period                 SHORT DESCRIPTION  \\\n",
       "0  NOW: Multiplehazards in effect            Click HERE for Details   \n",
       "1                       Overnight                     Partly Cloudy   \n",
       "2                     M.L.KingDay                             Sunny   \n",
       "3                     MondayNight  Clear thenMostly Clearand Breezy   \n",
       "4                         Tuesday         Sunny andBreezy thenSunny   \n",
       "5                    TuesdayNight                             Clear   \n",
       "6                       Wednesday                             Sunny   \n",
       "\n",
       "                                         DESCRIPTION  \n",
       "0  Partly cloudy, with a low around 51. Light wes...  \n",
       "1  Sunny, with a high near 71. North wind 8 to 14...  \n",
       "2  Mostly clear, with a low around 51. Breezy, wi...  \n",
       "3  Sunny, with a high near 68. Breezy, with a nor...  \n",
       "4  Clear, with a low around 46. North northeast w...  \n",
       "5                        Sunny, with a high near 63.  \n",
       "6                Mostly clear, with a low around 45.  "
      ]
     },
     "execution_count": 126,
     "metadata": {},
     "output_type": "execute_result"
    }
   ],
   "source": [
    "Weather=pd.DataFrame({})\n",
    "Weather['Period']=Day[0:7]\n",
    "Weather['SHORT DESCRIPTION']=Short_Description[0:7]\n",
    "#Weather['TEMPERATURE']=Temperature[0:17]\n",
    "Weather['DESCRIPTION']=Description[0:7]\n",
    "\n",
    "Weather"
   ]
  }
 ],
 "metadata": {
  "kernelspec": {
   "display_name": "Python 3",
   "language": "python",
   "name": "python3"
  },
  "language_info": {
   "codemirror_mode": {
    "name": "ipython",
    "version": 3
   },
   "file_extension": ".py",
   "mimetype": "text/x-python",
   "name": "python",
   "nbconvert_exporter": "python",
   "pygments_lexer": "ipython3",
   "version": "3.8.3"
  }
 },
 "nbformat": 4,
 "nbformat_minor": 4
}
